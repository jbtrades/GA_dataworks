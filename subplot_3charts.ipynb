{
 "cells": [
  {
   "cell_type": "code",
   "execution_count": 1,
   "metadata": {},
   "outputs": [
    {
     "ename": "NameError",
     "evalue": "name 'subplot_3' is not defined",
     "output_type": "error",
     "traceback": [
      "\u001b[0;31m---------------------------------------------------------------------------\u001b[0m",
      "\u001b[0;31mNameError\u001b[0m                                 Traceback (most recent call last)",
      "\u001b[0;32m<ipython-input-1-e30f49d6fc70>\u001b[0m in \u001b[0;36m<module>\u001b[0;34m\u001b[0m\n\u001b[1;32m      5\u001b[0m \u001b[0mcol\u001b[0m \u001b[0;34m=\u001b[0m \u001b[0;34m'Benchmark_culm%'\u001b[0m\u001b[0;34m\u001b[0m\u001b[0;34m\u001b[0m\u001b[0m\n\u001b[1;32m      6\u001b[0m \u001b[0mcol2\u001b[0m \u001b[0;34m=\u001b[0m \u001b[0;34m'BTC%vsindex'\u001b[0m\u001b[0;34m\u001b[0m\u001b[0;34m\u001b[0m\u001b[0m\n\u001b[0;32m----> 7\u001b[0;31m \u001b[0msubplot_3\u001b[0m\u001b[0;34m(\u001b[0m\u001b[0mtitle\u001b[0m\u001b[0;34m,\u001b[0m \u001b[0mstart\u001b[0m\u001b[0;34m,\u001b[0m \u001b[0mend\u001b[0m\u001b[0;34m,\u001b[0m \u001b[0mcol\u001b[0m\u001b[0;34m,\u001b[0m\u001b[0mcol2\u001b[0m\u001b[0;34m)\u001b[0m\u001b[0;34m\u001b[0m\u001b[0;34m\u001b[0m\u001b[0m\n\u001b[0m",
      "\u001b[0;31mNameError\u001b[0m: name 'subplot_3' is not defined"
     ]
    }
   ],
   "source": [
    "# 10 day view of btc% excess vs index\n",
    "start = '2020-12-31'\n",
    "end = '2021-01-14'\n",
    "title = 'BTC vs Index%'\n",
    "col = 'Benchmark_culm%'\n",
    "col2 = 'BTC%vsindex'\n",
    "subplot_3(title, start, end, col,col2)"
   ]
  },
  {
   "cell_type": "code",
   "execution_count": null,
   "metadata": {},
   "outputs": [],
   "source": [
    "# one month view of btc excess vs index \n",
    "start = '2020-12-11'\n",
    "end = '2021-01-14'\n",
    "title = 'BTC vs Index%'\n",
    "col = 'Benchmark_culm%'\n",
    "col2 = 'BTC%vsindex'\n",
    "subplot_3(title, start, end, col,col2)"
   ]
  },
  {
   "cell_type": "code",
   "execution_count": null,
   "metadata": {},
   "outputs": [],
   "source": [
    "# long term view of btc% excess vs index\n",
    "start = '2020-01-10'\n",
    "end = '2021-01-14'\n",
    "title = 'BTC vs Index%'\n",
    "col = 'Benchmark_culm%'\n",
    "col2 = 'BTC%vsindex'\n",
    "subplot_3(title, start, end, col,col2)"
   ]
  },
  {
   "cell_type": "code",
   "execution_count": null,
   "metadata": {},
   "outputs": [],
   "source": [
    "start = '2020-12-06'\n",
    "end = '2021-01-14'\n",
    "title = 'BTC vs Index%'\n",
    "col = 'Benchmark_culm%'\n",
    "col2 = 'cuml_ret_ETH%'\n",
    "subplot_3(title, start, end, col,col2)"
   ]
  },
  {
   "cell_type": "code",
   "execution_count": null,
   "metadata": {},
   "outputs": [],
   "source": [
    "start = '2020-12-06'\n",
    "end = '2021-01-14'\n",
    "title = 'BTC vs Index%'\n",
    "col = 'Benchmark_culm%'\n",
    "col2 = 'cuml_ret_LTC%'\n",
    "subplot_3(title, start, end, col,col2)"
   ]
  },
  {
   "cell_type": "code",
   "execution_count": null,
   "metadata": {},
   "outputs": [],
   "source": [
    "start = '2020-12-06'\n",
    "end = '2021-01-14'\n",
    "title = 'BTC vs Index%'\n",
    "col = 'Benchmark_culm%'\n",
    "col2 = 'cuml_ret_BCH%'\n",
    "subplot_3(title, start, end, col,col2)"
   ]
  },
  {
   "cell_type": "code",
   "execution_count": null,
   "metadata": {},
   "outputs": [],
   "source": [
    "start = '2020-12-06'\n",
    "end = '2021-01-14'\n",
    "title = 'BTC vs Index%'\n",
    "col = 'Benchmark_culm%'\n",
    "col2 = 'cuml_ret_XRP%'\n",
    "subplot_3(title, start, end, col,col2)"
   ]
  },
  {
   "cell_type": "code",
   "execution_count": null,
   "metadata": {},
   "outputs": [],
   "source": [
    "start = '2020-12-06'\n",
    "end = '2021-01-14'\n",
    "title = 'BTC vs Index%'\n",
    "col = 'Benchmark_culm%'\n",
    "col2 = 'cuml_ret_XMR%'\n",
    "subplot_3(title, start, end, col,col2)"
   ]
  },
  {
   "cell_type": "code",
   "execution_count": null,
   "metadata": {},
   "outputs": [],
   "source": []
  },
  {
   "cell_type": "code",
   "execution_count": null,
   "metadata": {},
   "outputs": [],
   "source": []
  },
  {
   "cell_type": "code",
   "execution_count": null,
   "metadata": {},
   "outputs": [],
   "source": []
  }
 ],
 "metadata": {
  "kernelspec": {
   "display_name": "Python 3",
   "language": "python",
   "name": "python3"
  },
  "language_info": {
   "codemirror_mode": {
    "name": "ipython",
    "version": 3
   },
   "file_extension": ".py",
   "mimetype": "text/x-python",
   "name": "python",
   "nbconvert_exporter": "python",
   "pygments_lexer": "ipython3",
   "version": "3.6.12"
  }
 },
 "nbformat": 4,
 "nbformat_minor": 4
}
