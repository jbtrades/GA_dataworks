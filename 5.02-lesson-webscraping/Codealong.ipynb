{
 "cells": [
  {
   "cell_type": "code",
   "execution_count": 1,
   "metadata": {},
   "outputs": [],
   "source": [
    "import pandas as pd\n",
    "import requests\n",
    "from bs4 import BeautifulSoup"
   ]
  },
  {
   "cell_type": "markdown",
   "metadata": {},
   "source": [
    "# Using the requests library"
   ]
  },
  {
   "cell_type": "code",
   "execution_count": 8,
   "metadata": {},
   "outputs": [],
   "source": [
    "url = 'https://rldaggie.github.io/sample-html/'\n",
    "res = requests.get(url)"
   ]
  },
  {
   "cell_type": "markdown",
   "metadata": {},
   "source": [
    "### Status Codes"
   ]
  },
  {
   "cell_type": "code",
   "execution_count": 4,
   "metadata": {},
   "outputs": [
    {
     "data": {
      "text/plain": [
       "200"
      ]
     },
     "execution_count": 4,
     "metadata": {},
     "output_type": "execute_result"
    }
   ],
   "source": [
    "res.status_code"
   ]
  },
  {
   "cell_type": "markdown",
   "metadata": {},
   "source": [
    "### Creating a `BeautifulSoup` object"
   ]
  },
  {
   "cell_type": "code",
   "execution_count": 5,
   "metadata": {},
   "outputs": [
    {
     "data": {
      "text/plain": [
       "b'<!DOCTYPE html>\\n<html>\\n  <head>\\n    <meta charset=\"utf-8\">\\n    <title>The title</title>\\n\\n    <style media=\"screen\">\\n      tbody tr {\\n        color: red;\\n      }\\n    </style>\\n  </head>\\n  <body>\\n    <h1 class=\"foobar\" id=\"title\">This is an h1</h1>\\n\\n    <div>\\n      <h1 class=\"foobar\">This is yet another heading.</h1>\\n\\n      Something inside the div\\n    </div>\\n\\n    <h3>Todo List</h3>\\n    <ol class=\"todo\">\\n      <li class=\"foobar\">Take out trash</li>\\n      <li>Pay billz</li>\\n      <li class=\"foobar\">Feed dog</li>\\n    </ol>\\n\\n    <h3>Completed</h3>\\n    <ol class=\\'done\\'>\\n      <li>Mow lawn</li>\\n      <li class=\"foobar\"><span>Take out compost</span></li>\\n      <li><span>Create scraping lecture</span></li>\\n    </ol>\\n\\n    <p class=\\'foobar\\'>Lorem ipsum dolor sit amet, consectetur adipisicing elit, sed do eiusmod tempor incididunt ut labore et dolore magna aliqua. Ut enim ad minim veniam, quis nostrud exercitation ullamco laboris nisi ut aliquip ex ea commodo consequat. <span>Duis aute irure dolor</span> in reprehenderit in voluptate velit esse cillum dolore eu fugiat nulla pariatur. <em>Excepteur sint occaecat cupidatat non proident, sunt in culpa qui officia deserunt mollit anim id est laborum</em>.</p>\\n\\n    <p>Lorem ipsum dolor sit amet, consectetur adipisicing elit, sed do eiusmod tempor incididunt ut labore et dolore magna aliqua. Ut enim ad minim veniam, quis nostrud exercitation ullamco laboris nisi ut aliquip ex ea commodo consequat. <strong><em>Duis aute irure dolor in reprehenderit in voluptate velit esse cillum dolore eu fugiat nulla pariatur</em></strong>. Excepteur sint occaecat cupidatat non proident, sunt in culpa qui officia deserunt mollit anim id est laborum.</p>\\n\\n    <table id=\"directory\">\\n      <thead>\\n        <tr>\\n          <th>Name</th>\\n          <th>Role</th>\\n        </tr>\\n      </thead>\\n\\n      <tbody>\\n        <tr class=\\'student\\'>\\n          <th><a href=\"mailto:praveen@ga.co\">Praveen\\n\\n\\n\\n          </a></th>\\n          <td>Student</td>\\n        </tr>\\n        <tr class=\\'student\\'>\\n          <th><a href=\"mailto:fred@ga.co\">Fred\\n\\n\\n\\n          </a></th>\\n          <td>Student</td>\\n        </tr>\\n        <tr class=\\'student\\'>\\n          <th><a href=\"mailto:homer@ga.co\">Homer\\n\\n\\n\\n          </a></th>\\n          <td><span class=\\'foobar\\'>Student</span></td>\\n        </tr>\\n        <tr class=\\'student\\'>\\n          <th><a href=\"mailto:kyle@ga.co\">Kyle\\n\\n\\n\\n          </a></th>\\n          <td>Student</td>\\n        </tr>\\n        <tr class=\\'student\\'>\\n          <th><a href=\"mailto:sam@ga.co\">Sam\\n\\n\\n\\n          </a></th>\\n          <td>Student</td>\\n        </tr>\\n        <tr class=\\'student\\'>\\n          <th><a href=\"mailto:javier@ga.co\">Javier\\n\\n\\n\\n          </a></th>\\n          <td>Student</td>\\n        </tr>\\n        <tr class=\\'student\\'>\\n          <th><a href=\"mailto:nengkuan@ga.co\">Nengkuan\\n\\n\\n\\n          </a></th>\\n          <td>Student</td>\\n        </tr>\\n        <tr class=\\'student\\'>\\n          <th><a href=\"mailto:kieth@ga.co\">Kieth\\n\\n\\n\\n          </a></th>\\n          <td>Student</td>\\n        </tr>\\n        <tr class=\\'student\\'>\\n          <th><a href=\"mailto:bola@ga.co\">Bola\\n\\n\\n\\n          </a></th>\\n          <td>Student</td>\\n        </tr>\\n        <tr class=\\'student\\'>\\n          <th><a href=\"mailto:steve@ga.co\">Steve\\n\\n\\n\\n          </a></th>\\n          <td>Student</td>\\n        </tr>\\n        <tr class=\\'student\\'>\\n          <th><a href=\"mailto:nichole@ga.co\">Nichole\\n\\n\\n\\n          </a></th>\\n          <td>Instructor</td>\\n        </tr>\\n        <tr class=\\'student\\'>\\n          <th><a href=\"mailto:riley@ga.co\">Riley\\n\\n\\n\\n          </a></th>\\n          <td>Instructor</td>\\n        </tr>\\n      </tbody>\\n    </table>\\n\\n    <footer>\\n      <p>Copyright 2017. All rights reserved</p>\\n\\n      <ul>\\n        <li><a href=\"#\">Home</a></li>\\n        <li><a href=\"#\">About</a></li>\\n        <li><a href=\"#\">Contact</a></li>\\n      </ul>\\n    </footer>\\n  </body>\\n</html>\\n'"
      ]
     },
     "execution_count": 5,
     "metadata": {},
     "output_type": "execute_result"
    }
   ],
   "source": [
    "res.content"
   ]
  },
  {
   "cell_type": "markdown",
   "metadata": {},
   "source": [
    "# `soup.find()`\n",
    "\n",
    "Returns either:\n",
    "\n",
    "1. A soup object of the first match\n",
    "2. `None`"
   ]
  },
  {
   "cell_type": "code",
   "execution_count": 6,
   "metadata": {},
   "outputs": [],
   "source": [
    "soup = BeautifulSoup(res.content, 'lxml')"
   ]
  },
  {
   "cell_type": "code",
   "execution_count": 10,
   "metadata": {},
   "outputs": [],
   "source": [
    "h1= soup.find('h1')"
   ]
  },
  {
   "cell_type": "code",
   "execution_count": 11,
   "metadata": {},
   "outputs": [
    {
     "data": {
      "text/plain": [
       "'This is an h1'"
      ]
     },
     "execution_count": 11,
     "metadata": {},
     "output_type": "execute_result"
    }
   ],
   "source": [
    "h1.text"
   ]
  },
  {
   "cell_type": "code",
   "execution_count": null,
   "metadata": {},
   "outputs": [],
   "source": [
    "h1.attrs"
   ]
  },
  {
   "cell_type": "code",
   "execution_count": null,
   "metadata": {},
   "outputs": [],
   "source": [
    "# fail safe in case tag for headers in not there\n",
    "if h1:\n",
    "    print(h1.text)"
   ]
  },
  {
   "cell_type": "markdown",
   "metadata": {},
   "source": [
    "# `soup.find_all()`\n",
    "\n",
    "Returns a **_LIST_** of soup objects that match your query"
   ]
  },
  {
   "cell_type": "code",
   "execution_count": 19,
   "metadata": {},
   "outputs": [
    {
     "data": {
      "text/plain": [
       "['This is an h1', 'This is yet another heading.']"
      ]
     },
     "execution_count": 19,
     "metadata": {},
     "output_type": "execute_result"
    }
   ],
   "source": [
    "#soup.find_all('h1')\n",
    "\n",
    "[h1.text for h1 in soup.find_all('h1')]\n",
    " "
   ]
  },
  {
   "cell_type": "code",
   "execution_count": 26,
   "metadata": {},
   "outputs": [],
   "source": [
    "instructors = [\n",
    "    {'name': 'Caroline', 'market': 'ATL'},\n",
    "    {'name': 'Heather'}]"
   ]
  },
  {
   "cell_type": "code",
   "execution_count": 27,
   "metadata": {},
   "outputs": [
    {
     "data": {
      "text/html": [
       "<div>\n",
       "<style scoped>\n",
       "    .dataframe tbody tr th:only-of-type {\n",
       "        vertical-align: middle;\n",
       "    }\n",
       "\n",
       "    .dataframe tbody tr th {\n",
       "        vertical-align: top;\n",
       "    }\n",
       "\n",
       "    .dataframe thead th {\n",
       "        text-align: right;\n",
       "    }\n",
       "</style>\n",
       "<table border=\"1\" class=\"dataframe\">\n",
       "  <thead>\n",
       "    <tr style=\"text-align: right;\">\n",
       "      <th></th>\n",
       "      <th>name</th>\n",
       "      <th>market</th>\n",
       "    </tr>\n",
       "  </thead>\n",
       "  <tbody>\n",
       "    <tr>\n",
       "      <th>0</th>\n",
       "      <td>Caroline</td>\n",
       "      <td>ATL</td>\n",
       "    </tr>\n",
       "    <tr>\n",
       "      <th>1</th>\n",
       "      <td>Heather</td>\n",
       "      <td>NaN</td>\n",
       "    </tr>\n",
       "  </tbody>\n",
       "</table>\n",
       "</div>"
      ],
      "text/plain": [
       "       name market\n",
       "0  Caroline    ATL\n",
       "1   Heather    NaN"
      ]
     },
     "execution_count": 27,
     "metadata": {},
     "output_type": "execute_result"
    }
   ],
   "source": [
    "pd.DataFrame(instructors)"
   ]
  },
  {
   "cell_type": "code",
   "execution_count": null,
   "metadata": {},
   "outputs": [],
   "source": []
  },
  {
   "cell_type": "code",
   "execution_count": null,
   "metadata": {},
   "outputs": [],
   "source": []
  },
  {
   "cell_type": "code",
   "execution_count": null,
   "metadata": {},
   "outputs": [],
   "source": []
  },
  {
   "cell_type": "markdown",
   "metadata": {},
   "source": [
    "# Creating a `pandas` DataFrame from a scrape"
   ]
  },
  {
   "cell_type": "code",
   "execution_count": null,
   "metadata": {},
   "outputs": [],
   "source": []
  },
  {
   "cell_type": "markdown",
   "metadata": {},
   "source": [
    "### Todo List"
   ]
  },
  {
   "cell_type": "code",
   "execution_count": 28,
   "metadata": {},
   "outputs": [
    {
     "data": {
      "text/plain": [
       "<ol class=\"done\">\n",
       "<li>Mow lawn</li>\n",
       "<li class=\"foobar\"><span>Take out compost</span></li>\n",
       "<li><span>Create scraping lecture</span></li>\n",
       "</ol>"
      ]
     },
     "execution_count": 28,
     "metadata": {},
     "output_type": "execute_result"
    }
   ],
   "source": [
    "#if I have a lot of ols in page this will help me anrrow down the one I want\n",
    "ol = soup.find('ol',{'class':'done'})\n",
    "ol"
   ]
  },
  {
   "cell_type": "code",
   "execution_count": 31,
   "metadata": {},
   "outputs": [
    {
     "data": {
      "text/html": [
       "<div>\n",
       "<style scoped>\n",
       "    .dataframe tbody tr th:only-of-type {\n",
       "        vertical-align: middle;\n",
       "    }\n",
       "\n",
       "    .dataframe tbody tr th {\n",
       "        vertical-align: top;\n",
       "    }\n",
       "\n",
       "    .dataframe thead th {\n",
       "        text-align: right;\n",
       "    }\n",
       "</style>\n",
       "<table border=\"1\" class=\"dataframe\">\n",
       "  <thead>\n",
       "    <tr style=\"text-align: right;\">\n",
       "      <th></th>\n",
       "      <th>task</th>\n",
       "      <th>foo</th>\n",
       "    </tr>\n",
       "  </thead>\n",
       "  <tbody>\n",
       "    <tr>\n",
       "      <th>0</th>\n",
       "      <td>Mow lawn</td>\n",
       "      <td>bar</td>\n",
       "    </tr>\n",
       "    <tr>\n",
       "      <th>1</th>\n",
       "      <td>Take out compost</td>\n",
       "      <td>bar</td>\n",
       "    </tr>\n",
       "    <tr>\n",
       "      <th>2</th>\n",
       "      <td>Create scraping lecture</td>\n",
       "      <td>bar</td>\n",
       "    </tr>\n",
       "  </tbody>\n",
       "</table>\n",
       "</div>"
      ],
      "text/plain": [
       "                      task  foo\n",
       "0                 Mow lawn  bar\n",
       "1         Take out compost  bar\n",
       "2  Create scraping lecture  bar"
      ]
     },
     "execution_count": 31,
     "metadata": {},
     "output_type": "execute_result"
    }
   ],
   "source": [
    "todos = []\n",
    "\n",
    "for li in ol.find_all('li'):\n",
    "    todo = {}\n",
    "    todo['task'] = li.text\n",
    "    todo['foo'] = 'bar'\n",
    "    \n",
    "    todos.append(todo)\n",
    "pd.DataFrame(todos)"
   ]
  },
  {
   "cell_type": "code",
   "execution_count": 32,
   "metadata": {},
   "outputs": [
    {
     "data": {
      "text/plain": [
       "bs4.element.Tag"
      ]
     },
     "execution_count": 32,
     "metadata": {},
     "output_type": "execute_result"
    }
   ],
   "source": [
    "table = soup.find('table', {'id': 'directory'})\n",
    "type(table)"
   ]
  },
  {
   "cell_type": "code",
   "execution_count": null,
   "metadata": {},
   "outputs": [],
   "source": []
  },
  {
   "cell_type": "code",
   "execution_count": 54,
   "metadata": {},
   "outputs": [
    {
     "data": {
      "text/html": [
       "<div>\n",
       "<style scoped>\n",
       "    .dataframe tbody tr th:only-of-type {\n",
       "        vertical-align: middle;\n",
       "    }\n",
       "\n",
       "    .dataframe tbody tr th {\n",
       "        vertical-align: top;\n",
       "    }\n",
       "\n",
       "    .dataframe thead th {\n",
       "        text-align: right;\n",
       "    }\n",
       "</style>\n",
       "<table border=\"1\" class=\"dataframe\">\n",
       "  <thead>\n",
       "    <tr style=\"text-align: right;\">\n",
       "      <th></th>\n",
       "      <th>name</th>\n",
       "      <th>role</th>\n",
       "      <th>email</th>\n",
       "    </tr>\n",
       "  </thead>\n",
       "  <tbody>\n",
       "    <tr>\n",
       "      <th>0</th>\n",
       "      <td>Praveen</td>\n",
       "      <td>Student</td>\n",
       "      <td>praveen@ga.co</td>\n",
       "    </tr>\n",
       "    <tr>\n",
       "      <th>1</th>\n",
       "      <td>Fred</td>\n",
       "      <td>Student</td>\n",
       "      <td>fred@ga.co</td>\n",
       "    </tr>\n",
       "    <tr>\n",
       "      <th>2</th>\n",
       "      <td>Homer</td>\n",
       "      <td>Student</td>\n",
       "      <td>homer@ga.co</td>\n",
       "    </tr>\n",
       "    <tr>\n",
       "      <th>3</th>\n",
       "      <td>Kyle</td>\n",
       "      <td>Student</td>\n",
       "      <td>kyle@ga.co</td>\n",
       "    </tr>\n",
       "    <tr>\n",
       "      <th>4</th>\n",
       "      <td>Sam</td>\n",
       "      <td>Student</td>\n",
       "      <td>sam@ga.co</td>\n",
       "    </tr>\n",
       "    <tr>\n",
       "      <th>5</th>\n",
       "      <td>Javier</td>\n",
       "      <td>Student</td>\n",
       "      <td>javier@ga.co</td>\n",
       "    </tr>\n",
       "    <tr>\n",
       "      <th>6</th>\n",
       "      <td>Nengkuan</td>\n",
       "      <td>Student</td>\n",
       "      <td>nengkuan@ga.co</td>\n",
       "    </tr>\n",
       "    <tr>\n",
       "      <th>7</th>\n",
       "      <td>Kieth</td>\n",
       "      <td>Student</td>\n",
       "      <td>kieth@ga.co</td>\n",
       "    </tr>\n",
       "    <tr>\n",
       "      <th>8</th>\n",
       "      <td>Bola</td>\n",
       "      <td>Student</td>\n",
       "      <td>bola@ga.co</td>\n",
       "    </tr>\n",
       "    <tr>\n",
       "      <th>9</th>\n",
       "      <td>Steve</td>\n",
       "      <td>Student</td>\n",
       "      <td>steve@ga.co</td>\n",
       "    </tr>\n",
       "    <tr>\n",
       "      <th>10</th>\n",
       "      <td>Nichole</td>\n",
       "      <td>Instructor</td>\n",
       "      <td>nichole@ga.co</td>\n",
       "    </tr>\n",
       "    <tr>\n",
       "      <th>11</th>\n",
       "      <td>Riley</td>\n",
       "      <td>Instructor</td>\n",
       "      <td>riley@ga.co</td>\n",
       "    </tr>\n",
       "  </tbody>\n",
       "</table>\n",
       "</div>"
      ],
      "text/plain": [
       "        name        role            email\n",
       "0    Praveen     Student    praveen@ga.co\n",
       "1       Fred     Student       fred@ga.co\n",
       "2      Homer     Student      homer@ga.co\n",
       "3       Kyle     Student       kyle@ga.co\n",
       "4        Sam     Student        sam@ga.co\n",
       "5     Javier     Student     javier@ga.co\n",
       "6   Nengkuan     Student   nengkuan@ga.co\n",
       "7      Kieth     Student      kieth@ga.co\n",
       "8       Bola     Student       bola@ga.co\n",
       "9      Steve     Student      steve@ga.co\n",
       "10   Nichole  Instructor    nichole@ga.co\n",
       "11     Riley  Instructor      riley@ga.co"
      ]
     },
     "execution_count": 54,
     "metadata": {},
     "output_type": "execute_result"
    }
   ],
   "source": [
    "people = []\n",
    "for row in table.find_all('tr')[1:]:\n",
    "    # print(row)\n",
    "    person = {}\n",
    "    person['name'] = row.find('a').text.strip()\n",
    "    person['role'] = row.td.text\n",
    "    person['email'] = row.find('a').attrs['href'].replace('mailto:',' ')\n",
    "    \n",
    "    people.append(person)\n",
    "pd.DataFrame(people)"
   ]
  },
  {
   "cell_type": "code",
   "execution_count": null,
   "metadata": {},
   "outputs": [],
   "source": []
  },
  {
   "cell_type": "markdown",
   "metadata": {},
   "source": [
    "### GA Directory"
   ]
  },
  {
   "cell_type": "code",
   "execution_count": null,
   "metadata": {},
   "outputs": [],
   "source": []
  },
  {
   "cell_type": "code",
   "execution_count": null,
   "metadata": {},
   "outputs": [],
   "source": []
  },
  {
   "cell_type": "code",
   "execution_count": null,
   "metadata": {},
   "outputs": [],
   "source": []
  },
  {
   "cell_type": "code",
   "execution_count": null,
   "metadata": {},
   "outputs": [],
   "source": []
  },
  {
   "cell_type": "markdown",
   "metadata": {},
   "source": [
    "### Basketball Reference"
   ]
  },
  {
   "cell_type": "code",
   "execution_count": 63,
   "metadata": {},
   "outputs": [
    {
     "data": {
      "text/plain": [
       "bs4.element.Tag"
      ]
     },
     "execution_count": 63,
     "metadata": {},
     "output_type": "execute_result"
    }
   ],
   "source": [
    "url = 'https://www.basketball-reference.com/'\n",
    "res = requests.get(url)\n",
    "res.status_code\n",
    "\n",
    "soup = BeautifulSoup(res.content,'lxml')\n",
    "\n",
    "table = soup.find('table', {'id': 'confs_standings_E'})\n",
    "type(table)"
   ]
  },
  {
   "cell_type": "code",
   "execution_count": null,
   "metadata": {},
   "outputs": [],
   "source": [
    "#https://www.basketball-reference.com/robots.txt if it says disallow / dont scrape"
   ]
  },
  {
   "cell_type": "code",
   "execution_count": 66,
   "metadata": {},
   "outputs": [
    {
     "data": {
      "text/html": [
       "<div>\n",
       "<style scoped>\n",
       "    .dataframe tbody tr th:only-of-type {\n",
       "        vertical-align: middle;\n",
       "    }\n",
       "\n",
       "    .dataframe tbody tr th {\n",
       "        vertical-align: top;\n",
       "    }\n",
       "\n",
       "    .dataframe thead th {\n",
       "        text-align: right;\n",
       "    }\n",
       "</style>\n",
       "<table border=\"1\" class=\"dataframe\">\n",
       "  <thead>\n",
       "    <tr style=\"text-align: right;\">\n",
       "      <th></th>\n",
       "      <th>abbrev</th>\n",
       "      <th>name</th>\n",
       "      <th>wins</th>\n",
       "      <th>losses</th>\n",
       "    </tr>\n",
       "  </thead>\n",
       "  <tbody>\n",
       "    <tr>\n",
       "      <th>0</th>\n",
       "      <td>MIL</td>\n",
       "      <td>Milwaukee Bucks</td>\n",
       "      <td>56</td>\n",
       "      <td>17</td>\n",
       "    </tr>\n",
       "    <tr>\n",
       "      <th>1</th>\n",
       "      <td>TOR</td>\n",
       "      <td>Toronto Raptors</td>\n",
       "      <td>53</td>\n",
       "      <td>19</td>\n",
       "    </tr>\n",
       "    <tr>\n",
       "      <th>2</th>\n",
       "      <td>BOS</td>\n",
       "      <td>Boston Celtics</td>\n",
       "      <td>48</td>\n",
       "      <td>24</td>\n",
       "    </tr>\n",
       "    <tr>\n",
       "      <th>3</th>\n",
       "      <td>IND</td>\n",
       "      <td>Indiana Pacers</td>\n",
       "      <td>45</td>\n",
       "      <td>28</td>\n",
       "    </tr>\n",
       "    <tr>\n",
       "      <th>4</th>\n",
       "      <td>MIA</td>\n",
       "      <td>Miami Heat</td>\n",
       "      <td>44</td>\n",
       "      <td>29</td>\n",
       "    </tr>\n",
       "    <tr>\n",
       "      <th>5</th>\n",
       "      <td>PHI</td>\n",
       "      <td>Philadelphia 76ers</td>\n",
       "      <td>43</td>\n",
       "      <td>30</td>\n",
       "    </tr>\n",
       "    <tr>\n",
       "      <th>6</th>\n",
       "      <td>BRK</td>\n",
       "      <td>Brooklyn Nets</td>\n",
       "      <td>35</td>\n",
       "      <td>37</td>\n",
       "    </tr>\n",
       "    <tr>\n",
       "      <th>7</th>\n",
       "      <td>ORL</td>\n",
       "      <td>Orlando Magic</td>\n",
       "      <td>33</td>\n",
       "      <td>40</td>\n",
       "    </tr>\n",
       "    <tr>\n",
       "      <th>8</th>\n",
       "      <td>CHO</td>\n",
       "      <td>Charlotte Hornets</td>\n",
       "      <td>23</td>\n",
       "      <td>42</td>\n",
       "    </tr>\n",
       "    <tr>\n",
       "      <th>9</th>\n",
       "      <td>WAS</td>\n",
       "      <td>Washington Wizards</td>\n",
       "      <td>25</td>\n",
       "      <td>47</td>\n",
       "    </tr>\n",
       "    <tr>\n",
       "      <th>10</th>\n",
       "      <td>CHI</td>\n",
       "      <td>Chicago Bulls</td>\n",
       "      <td>22</td>\n",
       "      <td>43</td>\n",
       "    </tr>\n",
       "    <tr>\n",
       "      <th>11</th>\n",
       "      <td>NYK</td>\n",
       "      <td>New York Knicks</td>\n",
       "      <td>21</td>\n",
       "      <td>45</td>\n",
       "    </tr>\n",
       "    <tr>\n",
       "      <th>12</th>\n",
       "      <td>DET</td>\n",
       "      <td>Detroit Pistons</td>\n",
       "      <td>20</td>\n",
       "      <td>46</td>\n",
       "    </tr>\n",
       "    <tr>\n",
       "      <th>13</th>\n",
       "      <td>ATL</td>\n",
       "      <td>Atlanta Hawks</td>\n",
       "      <td>20</td>\n",
       "      <td>47</td>\n",
       "    </tr>\n",
       "    <tr>\n",
       "      <th>14</th>\n",
       "      <td>CLE</td>\n",
       "      <td>Cleveland Cavaliers</td>\n",
       "      <td>19</td>\n",
       "      <td>46</td>\n",
       "    </tr>\n",
       "  </tbody>\n",
       "</table>\n",
       "</div>"
      ],
      "text/plain": [
       "   abbrev                 name wins losses\n",
       "0     MIL      Milwaukee Bucks   56     17\n",
       "1     TOR      Toronto Raptors   53     19\n",
       "2     BOS       Boston Celtics   48     24\n",
       "3     IND       Indiana Pacers   45     28\n",
       "4     MIA           Miami Heat   44     29\n",
       "5     PHI   Philadelphia 76ers   43     30\n",
       "6     BRK        Brooklyn Nets   35     37\n",
       "7     ORL        Orlando Magic   33     40\n",
       "8     CHO    Charlotte Hornets   23     42\n",
       "9     WAS   Washington Wizards   25     47\n",
       "10    CHI        Chicago Bulls   22     43\n",
       "11    NYK      New York Knicks   21     45\n",
       "12    DET      Detroit Pistons   20     46\n",
       "13    ATL        Atlanta Hawks   20     47\n",
       "14    CLE  Cleveland Cavaliers   19     46"
      ]
     },
     "execution_count": 66,
     "metadata": {},
     "output_type": "execute_result"
    }
   ],
   "source": [
    "table = soup.find('table', {'id': 'confs_standings_E'})\n",
    "\n",
    "teams = []\n",
    "for row in table.find_all('tr')[1:]:\n",
    "    team = {}\n",
    "    team['abbrev'] = row.find('a').text\n",
    "    team['name'] = row.find('a').attrs['title']\n",
    "    team['wins'] = row.find('td', {'data-stat': 'wins'}).text\n",
    "    team['losses'] = row.find('td', {'data-stat': 'losses'}).text\n",
    "    teams.append(team)\n",
    "\n",
    "pd.DataFrame(teams)"
   ]
  },
  {
   "cell_type": "code",
   "execution_count": 67,
   "metadata": {},
   "outputs": [
    {
     "name": "stdout",
     "output_type": "stream",
     "text": [
      "0\n",
      "1\n",
      "2\n",
      "3\n",
      "4\n",
      "5\n",
      "6\n",
      "7\n",
      "8\n"
     ]
    },
    {
     "ename": "KeyboardInterrupt",
     "evalue": "",
     "output_type": "error",
     "traceback": [
      "\u001b[0;31m---------------------------------------------------------------------------\u001b[0m",
      "\u001b[0;31mKeyboardInterrupt\u001b[0m                         Traceback (most recent call last)",
      "\u001b[0;32m<ipython-input-67-9c40757b51ad>\u001b[0m in \u001b[0;36m<module>\u001b[0;34m\u001b[0m\n\u001b[1;32m      3\u001b[0m \u001b[0;32mfor\u001b[0m \u001b[0mi\u001b[0m \u001b[0;32min\u001b[0m \u001b[0mrange\u001b[0m\u001b[0;34m(\u001b[0m\u001b[0;36m10\u001b[0m\u001b[0;34m)\u001b[0m\u001b[0;34m:\u001b[0m\u001b[0;34m\u001b[0m\u001b[0;34m\u001b[0m\u001b[0m\n\u001b[1;32m      4\u001b[0m     \u001b[0mprint\u001b[0m\u001b[0;34m(\u001b[0m\u001b[0mi\u001b[0m\u001b[0;34m)\u001b[0m\u001b[0;34m\u001b[0m\u001b[0;34m\u001b[0m\u001b[0m\n\u001b[0;32m----> 5\u001b[0;31m     \u001b[0mtime\u001b[0m\u001b[0;34m.\u001b[0m\u001b[0msleep\u001b[0m\u001b[0;34m(\u001b[0m\u001b[0;36m3\u001b[0m\u001b[0;34m)\u001b[0m\u001b[0;34m\u001b[0m\u001b[0;34m\u001b[0m\u001b[0m\n\u001b[0m",
      "\u001b[0;31mKeyboardInterrupt\u001b[0m: "
     ]
    }
   ],
   "source": [
    "import time\n",
    "\n",
    "#for i in range(10):\n",
    "    print(i)\n",
    "    time.sleep(3)"
   ]
  },
  {
   "cell_type": "code",
   "execution_count": null,
   "metadata": {},
   "outputs": [],
   "source": [
    "Good: /about\n",
    "Bad: /admin/login"
   ]
  }
 ],
 "metadata": {
  "kernelspec": {
   "display_name": "Python 3",
   "language": "python",
   "name": "python3"
  },
  "language_info": {
   "codemirror_mode": {
    "name": "ipython",
    "version": 3
   },
   "file_extension": ".py",
   "mimetype": "text/x-python",
   "name": "python",
   "nbconvert_exporter": "python",
   "pygments_lexer": "ipython3",
   "version": "3.8.3"
  }
 },
 "nbformat": 4,
 "nbformat_minor": 2
}
