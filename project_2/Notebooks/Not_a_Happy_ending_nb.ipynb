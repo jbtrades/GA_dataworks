{
 "cells": [
  {
   "cell_type": "code",
   "execution_count": 39,
   "metadata": {},
   "outputs": [],
   "source": [
    "import pandas as pd\n",
    "import seaborn as sns\n",
    "import matplotlib.pyplot as plt\n",
    "import numpy as np\n",
    "from sklearn.model_selection import train_test_split , cross_val_score\n",
    "from sklearn.linear_model import LinearRegression\n",
    "from sklearn import metrics\n",
    "from sklearn.preprocessing import PolynomialFeatures\n",
    "import missingno as msno\n",
    "from autoviz.AutoViz_Class import AutoViz_Class\n",
    "import pandas_profiling \n",
    "%matplotlib inline\n",
    "\n",
    "pd.options.display.max_columns = 100\n",
    "pd.options.display.max_rows = 3000"
   ]
  },
  {
   "cell_type": "code",
   "execution_count": 40,
   "metadata": {},
   "outputs": [],
   "source": [
    "path = './datasets/train.csv'\n",
    "df_train = pd.read_csv(path)\n",
    "\n",
    "df_train.columns = df_train.columns.str.replace(' ', '_')\n",
    "df_train['2nd_Flr_SF'] = df_train['2nd_Flr_SF'].fillna(0)\n"
   ]
  },
  {
   "cell_type": "code",
   "execution_count": null,
   "metadata": {},
   "outputs": [],
   "source": []
  },
  {
   "cell_type": "code",
   "execution_count": 3,
   "metadata": {},
   "outputs": [],
   "source": [
    "path = './datasets/test.csv'\n",
    "df_test = pd.read_csv(path)\n",
    "\n",
    "\n",
    "df_test.columns = df_test.columns.str.replace(' ', '_')\n",
    "df_test['2nd_Flr_SF'] = df_test['2nd_Flr_SF'].fillna(0)"
   ]
  },
  {
   "cell_type": "code",
   "execution_count": 43,
   "metadata": {},
   "outputs": [
    {
     "data": {
      "text/html": [
       "<div>\n",
       "<style scoped>\n",
       "    .dataframe tbody tr th:only-of-type {\n",
       "        vertical-align: middle;\n",
       "    }\n",
       "\n",
       "    .dataframe tbody tr th {\n",
       "        vertical-align: top;\n",
       "    }\n",
       "\n",
       "    .dataframe thead th {\n",
       "        text-align: right;\n",
       "    }\n",
       "</style>\n",
       "<table border=\"1\" class=\"dataframe\">\n",
       "  <thead>\n",
       "    <tr style=\"text-align: right;\">\n",
       "      <th></th>\n",
       "      <th>MS_SubClass</th>\n",
       "      <th>MS_Zoning</th>\n",
       "      <th>Lot_Area</th>\n",
       "      <th>Neighborhood</th>\n",
       "      <th>Bldg_Type</th>\n",
       "      <th>1st_Flr_SF</th>\n",
       "      <th>2nd_Flr_SF</th>\n",
       "    </tr>\n",
       "  </thead>\n",
       "  <tbody>\n",
       "    <tr>\n",
       "      <th>0</th>\n",
       "      <td>190</td>\n",
       "      <td>RM</td>\n",
       "      <td>9.120634</td>\n",
       "      <td>OldTown</td>\n",
       "      <td>2fmCon</td>\n",
       "      <td>6.811244</td>\n",
       "      <td>6.927558</td>\n",
       "    </tr>\n",
       "    <tr>\n",
       "      <th>1</th>\n",
       "      <td>90</td>\n",
       "      <td>RL</td>\n",
       "      <td>9.175956</td>\n",
       "      <td>Sawyer</td>\n",
       "      <td>Duplex</td>\n",
       "      <td>7.584265</td>\n",
       "      <td>0.000000</td>\n",
       "    </tr>\n",
       "    <tr>\n",
       "      <th>2</th>\n",
       "      <td>60</td>\n",
       "      <td>RL</td>\n",
       "      <td>9.747068</td>\n",
       "      <td>Gilbert</td>\n",
       "      <td>1Fam</td>\n",
       "      <td>6.498282</td>\n",
       "      <td>6.723832</td>\n",
       "    </tr>\n",
       "    <tr>\n",
       "      <th>3</th>\n",
       "      <td>30</td>\n",
       "      <td>RM</td>\n",
       "      <td>9.050172</td>\n",
       "      <td>OldTown</td>\n",
       "      <td>1Fam</td>\n",
       "      <td>6.875232</td>\n",
       "      <td>0.000000</td>\n",
       "    </tr>\n",
       "    <tr>\n",
       "      <th>4</th>\n",
       "      <td>20</td>\n",
       "      <td>RL</td>\n",
       "      <td>9.159047</td>\n",
       "      <td>NAmes</td>\n",
       "      <td>1Fam</td>\n",
       "      <td>7.239933</td>\n",
       "      <td>0.000000</td>\n",
       "    </tr>\n",
       "  </tbody>\n",
       "</table>\n",
       "</div>"
      ],
      "text/plain": [
       "   MS_SubClass MS_Zoning  Lot_Area Neighborhood Bldg_Type  1st_Flr_SF  \\\n",
       "0          190        RM  9.120634      OldTown    2fmCon    6.811244   \n",
       "1           90        RL  9.175956       Sawyer    Duplex    7.584265   \n",
       "2           60        RL  9.747068      Gilbert      1Fam    6.498282   \n",
       "3           30        RM  9.050172      OldTown      1Fam    6.875232   \n",
       "4           20        RL  9.159047        NAmes      1Fam    7.239933   \n",
       "\n",
       "   2nd_Flr_SF  \n",
       "0    6.927558  \n",
       "1    0.000000  \n",
       "2    6.723832  \n",
       "3    0.000000  \n",
       "4    0.000000  "
      ]
     },
     "execution_count": 43,
     "metadata": {},
     "output_type": "execute_result"
    }
   ],
   "source": [
    "df_test.head()"
   ]
  },
  {
   "cell_type": "code",
   "execution_count": 5,
   "metadata": {},
   "outputs": [],
   "source": [
    "df_train.drop(columns=['Id', 'PID', 'Lot_Frontage',\n",
    "       'Street', 'Alley', 'Lot_Shape', 'Land_Contour', 'Utilities',\n",
    "       'Lot_Config', 'Land_Slope',  'Condition_1',\n",
    "       'Condition_2', 'House_Style', 'Overall_Qual',\n",
    "       'Overall_Cond', 'Year_Built', 'Year_Remod/Add', 'Roof_Style',\n",
    "       'Roof_Matl', 'Exterior_1st', 'Exterior_2nd', 'Mas_Vnr_Type',\n",
    "       'Mas_Vnr_Area', 'Exter_Qual', 'Exter_Cond', 'Foundation', 'Bsmt_Qual',\n",
    "       'Bsmt_Cond', 'Bsmt_Exposure', 'BsmtFin_Type_1', 'BsmtFin_SF_1',\n",
    "       'BsmtFin_Type_2', 'BsmtFin_SF_2', 'Bsmt_Unf_SF', 'Total_Bsmt_SF',\n",
    "       'Heating', 'Heating_QC', 'Central_Air', 'Electrical', \n",
    "        'Low_Qual_Fin_SF', 'Gr_Liv_Area', 'Bsmt_Full_Bath',\n",
    "       'Bsmt_Half_Bath', 'Full_Bath', 'Half_Bath', 'Bedroom_AbvGr',\n",
    "       'Kitchen_AbvGr', 'Kitchen_Qual', 'TotRms_AbvGrd', 'Functional',\n",
    "       'Fireplaces', 'Fireplace_Qu', 'Garage_Type', 'Garage_Yr_Blt',\n",
    "       'Garage_Finish', 'Garage_Cars', 'Garage_Area', 'Garage_Qual',\n",
    "       'Garage_Cond', 'Paved_Drive', 'Wood_Deck_SF', 'Open_Porch_SF',\n",
    "       'Enclosed_Porch', '3Ssn_Porch', 'Screen_Porch', 'Pool_Area', 'Pool_QC',\n",
    "       'Fence', 'Misc_Feature', 'Misc_Val', 'Mo_Sold', 'Yr_Sold', 'Sale_Type'],inplace = True)"
   ]
  },
  {
   "cell_type": "code",
   "execution_count": 6,
   "metadata": {},
   "outputs": [],
   "source": [
    "df_test.drop(columns=['Id', 'PID', 'Lot_Frontage',\n",
    "       'Street', 'Alley', 'Lot_Shape', 'Land_Contour', 'Utilities',\n",
    "       'Lot_Config', 'Land_Slope',  'Condition_1',\n",
    "       'Condition_2', 'House_Style', 'Overall_Qual',\n",
    "       'Overall_Cond', 'Year_Built', 'Year_Remod/Add', 'Roof_Style',\n",
    "       'Roof_Matl', 'Exterior_1st', 'Exterior_2nd', 'Mas_Vnr_Type',\n",
    "       'Mas_Vnr_Area', 'Exter_Qual', 'Exter_Cond', 'Foundation', 'Bsmt_Qual',\n",
    "       'Bsmt_Cond', 'Bsmt_Exposure', 'BsmtFin_Type_1', 'BsmtFin_SF_1',\n",
    "       'BsmtFin_Type_2', 'BsmtFin_SF_2', 'Bsmt_Unf_SF', 'Total_Bsmt_SF',\n",
    "       'Heating', 'Heating_QC', 'Central_Air', 'Electrical', \n",
    "        'Low_Qual_Fin_SF', 'Gr_Liv_Area', 'Bsmt_Full_Bath',\n",
    "       'Bsmt_Half_Bath', 'Full_Bath', 'Half_Bath', 'Bedroom_AbvGr',\n",
    "       'Kitchen_AbvGr', 'Kitchen_Qual', 'TotRms_AbvGrd', 'Functional',\n",
    "       'Fireplaces', 'Fireplace_Qu', 'Garage_Type', 'Garage_Yr_Blt',\n",
    "       'Garage_Finish', 'Garage_Cars', 'Garage_Area', 'Garage_Qual',\n",
    "       'Garage_Cond', 'Paved_Drive', 'Wood_Deck_SF', 'Open_Porch_SF',\n",
    "       'Enclosed_Porch', '3Ssn_Porch', 'Screen_Porch', 'Pool_Area', 'Pool_QC',\n",
    "       'Fence', 'Misc_Feature', 'Misc_Val', 'Mo_Sold', 'Yr_Sold', 'Sale_Type'],inplace = True)"
   ]
  },
  {
   "cell_type": "code",
   "execution_count": null,
   "metadata": {},
   "outputs": [],
   "source": []
  },
  {
   "cell_type": "code",
   "execution_count": null,
   "metadata": {},
   "outputs": [],
   "source": []
  },
  {
   "cell_type": "code",
   "execution_count": null,
   "metadata": {},
   "outputs": [],
   "source": [
    "df = df_train\n",
    "\n",
    "def get_valuecounts(df):\n",
    "    \n",
    "    if col in df.columns:\n",
    "        if col == df.['{col']:\n",
    "            print(df[f'{col}'].value_counts().sort_values())\n",
    "        \n",
    "get_valuecounts(df)"
   ]
  },
  {
   "cell_type": "code",
   "execution_count": null,
   "metadata": {},
   "outputs": [],
   "source": []
  },
  {
   "cell_type": "code",
   "execution_count": null,
   "metadata": {},
   "outputs": [],
   "source": []
  },
  {
   "cell_type": "code",
   "execution_count": 7,
   "metadata": {},
   "outputs": [],
   "source": [
    "df_train['MS_Zoning'] = df_train['MS_Zoning'].replace([\"I (all)\"],'I')\n",
    "df_train['MS_Zoning'] = df_train['MS_Zoning'].replace([\"C (all)\"],'C')\n",
    "df_train['MS_Zoning'] = df_train['MS_Zoning'].replace([\"A (agr)\"],'A')\n",
    "\n",
    "df_train['MS_SubClass'] = df_train['MS_SubClass'].replace([20],'1-STORY 1946 & NEWER ALL STYLES')\n",
    "df_train['MS_SubClass'] = df_train['MS_SubClass'].replace([30],'1-STORY 1945 & OLDER')\n",
    "df_train['MS_SubClass'] = df_train['MS_SubClass'].replace([40],'1-STORY W/FINISHED ATTIC ALL AGES')\n",
    "df_train['MS_SubClass'] = df_train['MS_SubClass'].replace([45],'1-1/2 STORY - UNFINISHED ALL AGES')\n",
    "df_train['MS_SubClass'] = df_train['MS_SubClass'].replace([50],'1-1/2 STORY FINISHED ALL AGES')\n",
    "df_train['MS_SubClass'] = df_train['MS_SubClass'].replace([60],'2-STORY 1946 & NEWER')\n",
    "df_train['MS_SubClass'] = df_train['MS_SubClass'].replace([70],'2-STORY 1945 & OLDER')\n",
    "df_train['MS_SubClass'] = df_train['MS_SubClass'].replace([75],'2-1/2 STORY ALL AGES')\n",
    "df_train['MS_SubClass'] = df_train['MS_SubClass'].replace([80],'SPLIT OR MULTI-LEVEL')\n",
    "df_train['MS_SubClass'] = df_train['MS_SubClass'].replace([85],'SPLIT FOYER')\n",
    "df_train['MS_SubClass'] = df_train['MS_SubClass'].replace([90],'DUPLEX - ALL STYLES AND AGES')\n",
    "df_train['MS_SubClass'] = df_train['MS_SubClass'].replace([120],'1-STORY PUD (Planned Unit Development) - 1946 & NEWER')\n",
    "df_train['MS_SubClass'] = df_train['MS_SubClass'].replace([150],'1-1/2 STORY PUD - ALL AGES')\n",
    "df_train['MS_SubClass'] = df_train['MS_SubClass'].replace([160],'2-STORY PUD - 1946 & NEWER')\n",
    "df_train['MS_SubClass'] = df_train['MS_SubClass'].replace([180],'PUD - MULTILEVEL - INCL SPLIT LEV/FOYER')\n",
    "df_train['MS_SubClass'] = df_train['MS_SubClass'].replace([190],'2 FAMILY CONVERSION - ALL STYLES AND AGES')\n"
   ]
  },
  {
   "cell_type": "code",
   "execution_count": 8,
   "metadata": {},
   "outputs": [],
   "source": [
    "df_train['SalePrice'] = df_train['SalePrice'].map(np.log)\n",
    "df_train['1st_Flr_SF'] = df_train['1st_Flr_SF'].map(np.log)\n",
    "df_train['2nd_Flr_SF'] = df_train['2nd_Flr_SF'].map(np.log)\n",
    "df_train['Lot_Area'] = df_train['Lot_Area'].map(np.log)\n",
    "\n",
    "df_test['1st_Flr_SF'] = df_test['1st_Flr_SF'].map(np.log)\n",
    "df_test['2nd_Flr_SF'] = df_test['2nd_Flr_SF'].map(np.log)\n",
    "df_test['Lot_Area'] = df_test['Lot_Area'].map(np.log)\n"
   ]
  },
  {
   "cell_type": "code",
   "execution_count": 9,
   "metadata": {},
   "outputs": [],
   "source": [
    "df_train.replace([np.inf, -np.inf], 0, inplace=True) \n",
    "df_test.replace([np.inf, -np.inf], 0, inplace=True) "
   ]
  },
  {
   "cell_type": "code",
   "execution_count": 10,
   "metadata": {},
   "outputs": [
    {
     "name": "stdout",
     "output_type": "stream",
     "text": [
      "<class 'pandas.core.frame.DataFrame'>\n",
      "Int64Index: 2048 entries, 0 to 2050\n",
      "Data columns (total 8 columns):\n",
      " #   Column        Non-Null Count  Dtype  \n",
      "---  ------        --------------  -----  \n",
      " 0   MS_SubClass   2048 non-null   object \n",
      " 1   MS_Zoning     2048 non-null   object \n",
      " 2   Lot_Area      2048 non-null   float64\n",
      " 3   Neighborhood  2048 non-null   object \n",
      " 4   Bldg_Type     2048 non-null   object \n",
      " 5   1st_Flr_SF    2048 non-null   float64\n",
      " 6   2nd_Flr_SF    2048 non-null   float64\n",
      " 7   SalePrice     2048 non-null   float64\n",
      "dtypes: float64(4), object(4)\n",
      "memory usage: 144.0+ KB\n"
     ]
    }
   ],
   "source": [
    "df_train = df_train.drop_duplicates()\n",
    "df_train.info()"
   ]
  },
  {
   "cell_type": "code",
   "execution_count": 11,
   "metadata": {},
   "outputs": [
    {
     "data": {
      "text/html": [
       "<div>\n",
       "<style scoped>\n",
       "    .dataframe tbody tr th:only-of-type {\n",
       "        vertical-align: middle;\n",
       "    }\n",
       "\n",
       "    .dataframe tbody tr th {\n",
       "        vertical-align: top;\n",
       "    }\n",
       "\n",
       "    .dataframe thead th {\n",
       "        text-align: right;\n",
       "    }\n",
       "</style>\n",
       "<table border=\"1\" class=\"dataframe\">\n",
       "  <thead>\n",
       "    <tr style=\"text-align: right;\">\n",
       "      <th></th>\n",
       "      <th>MS_SubClass</th>\n",
       "      <th>MS_Zoning</th>\n",
       "      <th>Lot_Area</th>\n",
       "      <th>Neighborhood</th>\n",
       "      <th>Bldg_Type</th>\n",
       "      <th>1st_Flr_SF</th>\n",
       "      <th>2nd_Flr_SF</th>\n",
       "      <th>SalePrice</th>\n",
       "    </tr>\n",
       "  </thead>\n",
       "  <tbody>\n",
       "    <tr>\n",
       "      <th>0</th>\n",
       "      <td>2-STORY 1946 &amp; NEWER</td>\n",
       "      <td>RL</td>\n",
       "      <td>9.511703</td>\n",
       "      <td>Sawyer</td>\n",
       "      <td>1Fam</td>\n",
       "      <td>6.586172</td>\n",
       "      <td>6.625392</td>\n",
       "      <td>11.779129</td>\n",
       "    </tr>\n",
       "    <tr>\n",
       "      <th>1</th>\n",
       "      <td>2-STORY 1946 &amp; NEWER</td>\n",
       "      <td>RL</td>\n",
       "      <td>9.349406</td>\n",
       "      <td>SawyerW</td>\n",
       "      <td>1Fam</td>\n",
       "      <td>6.816736</td>\n",
       "      <td>7.097549</td>\n",
       "      <td>12.301383</td>\n",
       "    </tr>\n",
       "    <tr>\n",
       "      <th>2</th>\n",
       "      <td>1-STORY 1946 &amp; NEWER ALL STYLES</td>\n",
       "      <td>RL</td>\n",
       "      <td>8.977399</td>\n",
       "      <td>NAmes</td>\n",
       "      <td>1Fam</td>\n",
       "      <td>6.963190</td>\n",
       "      <td>0.000000</td>\n",
       "      <td>11.599103</td>\n",
       "    </tr>\n",
       "    <tr>\n",
       "      <th>3</th>\n",
       "      <td>2-STORY 1946 &amp; NEWER</td>\n",
       "      <td>RL</td>\n",
       "      <td>9.190342</td>\n",
       "      <td>Timber</td>\n",
       "      <td>1Fam</td>\n",
       "      <td>6.612041</td>\n",
       "      <td>6.551080</td>\n",
       "      <td>12.066811</td>\n",
       "    </tr>\n",
       "    <tr>\n",
       "      <th>4</th>\n",
       "      <td>1-1/2 STORY FINISHED ALL AGES</td>\n",
       "      <td>RL</td>\n",
       "      <td>9.563459</td>\n",
       "      <td>SawyerW</td>\n",
       "      <td>1Fam</td>\n",
       "      <td>6.722630</td>\n",
       "      <td>6.419995</td>\n",
       "      <td>11.838626</td>\n",
       "    </tr>\n",
       "  </tbody>\n",
       "</table>\n",
       "</div>"
      ],
      "text/plain": [
       "                       MS_SubClass MS_Zoning  Lot_Area Neighborhood Bldg_Type  \\\n",
       "0             2-STORY 1946 & NEWER        RL  9.511703       Sawyer      1Fam   \n",
       "1             2-STORY 1946 & NEWER        RL  9.349406      SawyerW      1Fam   \n",
       "2  1-STORY 1946 & NEWER ALL STYLES        RL  8.977399        NAmes      1Fam   \n",
       "3             2-STORY 1946 & NEWER        RL  9.190342       Timber      1Fam   \n",
       "4    1-1/2 STORY FINISHED ALL AGES        RL  9.563459      SawyerW      1Fam   \n",
       "\n",
       "   1st_Flr_SF  2nd_Flr_SF  SalePrice  \n",
       "0    6.586172    6.625392  11.779129  \n",
       "1    6.816736    7.097549  12.301383  \n",
       "2    6.963190    0.000000  11.599103  \n",
       "3    6.612041    6.551080  12.066811  \n",
       "4    6.722630    6.419995  11.838626  "
      ]
     },
     "execution_count": 11,
     "metadata": {},
     "output_type": "execute_result"
    }
   ],
   "source": [
    "df_train.head()"
   ]
  },
  {
   "cell_type": "code",
   "execution_count": 12,
   "metadata": {},
   "outputs": [
    {
     "data": {
      "text/plain": [
       "<matplotlib.axes._subplots.AxesSubplot at 0x7f89b16129a0>"
      ]
     },
     "execution_count": 12,
     "metadata": {},
     "output_type": "execute_result"
    },
    {
     "data": {
      "image/png": "[encoded data removed]",
      "text/plain": [
       "<Figure size 432x288 with 2 Axes>"
      ]
     },
     "metadata": {
      "needs_background": "light"
     },
     "output_type": "display_data"
    }
   ],
   "source": [
    "sns.heatmap(df_train.corr()[['SalePrice']].sort_values('SalePrice'),\n",
    "            annot=True,\n",
    "            vmin=-1,\n",
    "            vmax=1,\n",
    "            cmap='coolwarm')"
   ]
  },
  {
   "cell_type": "code",
   "execution_count": 36,
   "metadata": {},
   "outputs": [],
   "source": [
    "featuresp = ['Lot_Area','1st_Flr_SF','2nd_Flr_SF','SalePrice']\n",
    "#Xy = df_train[featuresp]"
   ]
  },
  {
   "cell_type": "code",
   "execution_count": 14,
   "metadata": {},
   "outputs": [],
   "source": [
    "#poly = PolynomialFeatures(include_bias=False)\n",
    "#X_poly = poly.fit_transform(Xy)"
   ]
  },
  {
   "cell_type": "code",
   "execution_count": 15,
   "metadata": {},
   "outputs": [
    {
     "data": {
      "text/html": [
       "<div>\n",
       "<style scoped>\n",
       "    .dataframe tbody tr th:only-of-type {\n",
       "        vertical-align: middle;\n",
       "    }\n",
       "\n",
       "    .dataframe tbody tr th {\n",
       "        vertical-align: top;\n",
       "    }\n",
       "\n",
       "    .dataframe thead th {\n",
       "        text-align: right;\n",
       "    }\n",
       "</style>\n",
       "<table border=\"1\" class=\"dataframe\">\n",
       "  <thead>\n",
       "    <tr style=\"text-align: right;\">\n",
       "      <th></th>\n",
       "      <th>Lot_Area</th>\n",
       "      <th>1st_Flr_SF</th>\n",
       "      <th>2nd_Flr_SF</th>\n",
       "      <th>SalePrice</th>\n",
       "      <th>Lot_Area^2</th>\n",
       "      <th>Lot_Area 1st_Flr_SF</th>\n",
       "      <th>Lot_Area 2nd_Flr_SF</th>\n",
       "      <th>Lot_Area SalePrice</th>\n",
       "      <th>1st_Flr_SF^2</th>\n",
       "      <th>1st_Flr_SF 2nd_Flr_SF</th>\n",
       "      <th>1st_Flr_SF SalePrice</th>\n",
       "      <th>2nd_Flr_SF^2</th>\n",
       "      <th>2nd_Flr_SF SalePrice</th>\n",
       "      <th>SalePrice^2</th>\n",
       "    </tr>\n",
       "  </thead>\n",
       "  <tbody>\n",
       "    <tr>\n",
       "      <th>0</th>\n",
       "      <td>9.511703</td>\n",
       "      <td>6.586172</td>\n",
       "      <td>6.625392</td>\n",
       "      <td>11.779129</td>\n",
       "      <td>90.472502</td>\n",
       "      <td>62.645712</td>\n",
       "      <td>63.018767</td>\n",
       "      <td>112.039577</td>\n",
       "      <td>43.377657</td>\n",
       "      <td>43.635971</td>\n",
       "      <td>77.579362</td>\n",
       "      <td>43.895824</td>\n",
       "      <td>78.041348</td>\n",
       "      <td>138.747868</td>\n",
       "    </tr>\n",
       "    <tr>\n",
       "      <th>1</th>\n",
       "      <td>9.349406</td>\n",
       "      <td>6.816736</td>\n",
       "      <td>7.097549</td>\n",
       "      <td>12.301383</td>\n",
       "      <td>87.411400</td>\n",
       "      <td>63.732434</td>\n",
       "      <td>66.357869</td>\n",
       "      <td>115.010628</td>\n",
       "      <td>46.467888</td>\n",
       "      <td>48.382116</td>\n",
       "      <td>83.855278</td>\n",
       "      <td>50.375200</td>\n",
       "      <td>87.309666</td>\n",
       "      <td>151.324019</td>\n",
       "    </tr>\n",
       "    <tr>\n",
       "      <th>2</th>\n",
       "      <td>8.977399</td>\n",
       "      <td>6.963190</td>\n",
       "      <td>0.000000</td>\n",
       "      <td>11.599103</td>\n",
       "      <td>80.593692</td>\n",
       "      <td>62.511335</td>\n",
       "      <td>0.000000</td>\n",
       "      <td>104.129777</td>\n",
       "      <td>48.486015</td>\n",
       "      <td>0.000000</td>\n",
       "      <td>80.766759</td>\n",
       "      <td>0.000000</td>\n",
       "      <td>0.000000</td>\n",
       "      <td>134.539194</td>\n",
       "    </tr>\n",
       "    <tr>\n",
       "      <th>3</th>\n",
       "      <td>9.190342</td>\n",
       "      <td>6.612041</td>\n",
       "      <td>6.551080</td>\n",
       "      <td>12.066811</td>\n",
       "      <td>84.462381</td>\n",
       "      <td>60.766917</td>\n",
       "      <td>60.206667</td>\n",
       "      <td>110.898113</td>\n",
       "      <td>43.719087</td>\n",
       "      <td>43.316012</td>\n",
       "      <td>79.786247</td>\n",
       "      <td>42.916654</td>\n",
       "      <td>79.050645</td>\n",
       "      <td>145.607918</td>\n",
       "    </tr>\n",
       "    <tr>\n",
       "      <th>4</th>\n",
       "      <td>9.563459</td>\n",
       "      <td>6.722630</td>\n",
       "      <td>6.419995</td>\n",
       "      <td>11.838626</td>\n",
       "      <td>91.459748</td>\n",
       "      <td>64.291594</td>\n",
       "      <td>61.397358</td>\n",
       "      <td>113.218211</td>\n",
       "      <td>45.193751</td>\n",
       "      <td>43.159249</td>\n",
       "      <td>79.586697</td>\n",
       "      <td>41.216335</td>\n",
       "      <td>76.003916</td>\n",
       "      <td>140.153056</td>\n",
       "    </tr>\n",
       "  </tbody>\n",
       "</table>\n",
       "</div>"
      ],
      "text/plain": [
       "   Lot_Area  1st_Flr_SF  2nd_Flr_SF  SalePrice  Lot_Area^2  \\\n",
       "0  9.511703    6.586172    6.625392  11.779129   90.472502   \n",
       "1  9.349406    6.816736    7.097549  12.301383   87.411400   \n",
       "2  8.977399    6.963190    0.000000  11.599103   80.593692   \n",
       "3  9.190342    6.612041    6.551080  12.066811   84.462381   \n",
       "4  9.563459    6.722630    6.419995  11.838626   91.459748   \n",
       "\n",
       "   Lot_Area 1st_Flr_SF  Lot_Area 2nd_Flr_SF  Lot_Area SalePrice  1st_Flr_SF^2  \\\n",
       "0            62.645712            63.018767          112.039577     43.377657   \n",
       "1            63.732434            66.357869          115.010628     46.467888   \n",
       "2            62.511335             0.000000          104.129777     48.486015   \n",
       "3            60.766917            60.206667          110.898113     43.719087   \n",
       "4            64.291594            61.397358          113.218211     45.193751   \n",
       "\n",
       "   1st_Flr_SF 2nd_Flr_SF  1st_Flr_SF SalePrice  2nd_Flr_SF^2  \\\n",
       "0              43.635971             77.579362     43.895824   \n",
       "1              48.382116             83.855278     50.375200   \n",
       "2               0.000000             80.766759      0.000000   \n",
       "3              43.316012             79.786247     42.916654   \n",
       "4              43.159249             79.586697     41.216335   \n",
       "\n",
       "   2nd_Flr_SF SalePrice  SalePrice^2  \n",
       "0             78.041348   138.747868  \n",
       "1             87.309666   151.324019  \n",
       "2              0.000000   134.539194  \n",
       "3             79.050645   145.607918  \n",
       "4             76.003916   140.153056  "
      ]
     },
     "execution_count": 15,
     "metadata": {},
     "output_type": "execute_result"
    }
   ],
   "source": [
    "#newdf = pd.DataFrame(X_poly, columns=poly.get_feature_names(featuresp))\n",
    "#newdf.head()"
   ]
  },
  {
   "cell_type": "code",
   "execution_count": null,
   "metadata": {},
   "outputs": [],
   "source": [
    "#"
   ]
  },
  {
   "cell_type": "code",
   "execution_count": 35,
   "metadata": {},
   "outputs": [],
   "source": [
    "#featurestest = ['Lot_Area','1st_Flr_SF','2nd_Flr_SF']\n",
    "#Yx = df_test[featurestest]\n",
    "#poly = PolynomialFeatures(include_bias=False)\n",
    "#Y_poly = poly.fit_transform(Yx)\n",
    "#newdftest = pd.DataFrame(Y_poly, columns=poly.get_feature_names(featurestest))\n",
    "#newdftest.head()"
   ]
  },
  {
   "cell_type": "code",
   "execution_count": 17,
   "metadata": {},
   "outputs": [],
   "source": [
    "#newdf.drop(columns=['Lot_Area SalePrice','1st_Flr_SF SalePrice','2nd_Flr_SF SalePrice',\n",
    "         #           'SalePrice^2'],inplace=True\n",
    "         # )"
   ]
  },
  {
   "cell_type": "code",
   "execution_count": null,
   "metadata": {},
   "outputs": [],
   "source": []
  },
  {
   "cell_type": "code",
   "execution_count": null,
   "metadata": {},
   "outputs": [],
   "source": []
  },
  {
   "cell_type": "code",
   "execution_count": null,
   "metadata": {},
   "outputs": [],
   "source": []
  },
  {
   "cell_type": "code",
   "execution_count": null,
   "metadata": {},
   "outputs": [],
   "source": [
    "#newdf.head()"
   ]
  },
  {
   "cell_type": "code",
   "execution_count": null,
   "metadata": {},
   "outputs": [],
   "source": [
    "#mergdf = pd.merge(newdf, df_train, left_index=True, right_index=True, how='left')"
   ]
  },
  {
   "cell_type": "markdown",
   "metadata": {},
   "source": []
  },
  {
   "cell_type": "code",
   "execution_count": null,
   "metadata": {},
   "outputs": [],
   "source": [
    "#mergdf.drop(columns=['1st_Flr_SF_x','2nd_Flr_SF_x'],inplace=True)\n",
    "#mergdf.head()"
   ]
  },
  {
   "cell_type": "code",
   "execution_count": null,
   "metadata": {},
   "outputs": [],
   "source": [
    "#mergedf.info()"
   ]
  },
  {
   "cell_type": "code",
   "execution_count": null,
   "metadata": {},
   "outputs": [],
   "source": [
    "#merg = pd.get_dummies(mergdf,columns=['MS_SubClass','MS_Zoning','Neighborhood','Bldg_Type']\n",
    "                           # ,drop_first=True)"
   ]
  },
  {
   "cell_type": "code",
   "execution_count": null,
   "metadata": {},
   "outputs": [],
   "source": [
    "#merg.head()"
   ]
  },
  {
   "cell_type": "code",
   "execution_count": null,
   "metadata": {},
   "outputs": [],
   "source": []
  },
  {
   "cell_type": "code",
   "execution_count": 20,
   "metadata": {},
   "outputs": [],
   "source": [
    "X = df_train._get_numeric_data().drop(columns=['SalePrice']) # if my df only has numeric cols and my target\n",
    "features = list(X.columns)\n",
    "y = newdf['SalePrice']\n"
   ]
  },
  {
   "cell_type": "code",
   "execution_count": 21,
   "metadata": {},
   "outputs": [],
   "source": [
    "X_train, X_test, y_train, y_test = train_test_split(X, y, test_size=.2, random_state=42)"
   ]
  },
  {
   "cell_type": "code",
   "execution_count": 22,
   "metadata": {},
   "outputs": [],
   "source": [
    "lr = LinearRegression()"
   ]
  },
  {
   "cell_type": "code",
   "execution_count": 23,
   "metadata": {},
   "outputs": [
    {
     "data": {
      "text/plain": [
       "0.6225903320615755"
      ]
     },
     "execution_count": 23,
     "metadata": {},
     "output_type": "execute_result"
    }
   ],
   "source": [
    "cross_val_score(lr, X_train, y_train).mean()"
   ]
  },
  {
   "cell_type": "code",
   "execution_count": 24,
   "metadata": {},
   "outputs": [
    {
     "data": {
      "text/plain": [
       "0.5884794058414133"
      ]
     },
     "execution_count": 24,
     "metadata": {},
     "output_type": "execute_result"
    }
   ],
   "source": [
    "cross_val_score(lr, X_test, y_test).mean()"
   ]
  },
  {
   "cell_type": "code",
   "execution_count": 25,
   "metadata": {},
   "outputs": [
    {
     "data": {
      "text/plain": [
       "LinearRegression()"
      ]
     },
     "execution_count": 25,
     "metadata": {},
     "output_type": "execute_result"
    }
   ],
   "source": [
    "lr.fit(X_train,y_train)"
   ]
  },
  {
   "cell_type": "code",
   "execution_count": 26,
   "metadata": {},
   "outputs": [
    {
     "data": {
      "text/plain": [
       "(0.6298967829450703, 0.5706758823384396)"
      ]
     },
     "execution_count": 26,
     "metadata": {},
     "output_type": "execute_result"
    }
   ],
   "source": [
    "lr.score(X_train,y_train), lr.score(X_test,y_test)"
   ]
  },
  {
   "cell_type": "code",
   "execution_count": 31,
   "metadata": {},
   "outputs": [],
   "source": [
    "X_TEST = df_test[['Lot_Area','1st_Flr_SF','2nd_Flr_SF',]]\n"
   ]
  },
  {
   "cell_type": "code",
   "execution_count": 34,
   "metadata": {},
   "outputs": [
    {
     "ename": "ValueError",
     "evalue": "matmul: Input operand 1 has a mismatch in its core dimension 0, with gufunc signature (n?,k),(k,m?)->(n?,m?) (size 9 is different from 3)",
     "output_type": "error",
     "traceback": [
      "\u001b[0;31m---------------------------------------------------------------------------\u001b[0m",
      "\u001b[0;31mValueError\u001b[0m                                Traceback (most recent call last)",
      "\u001b[0;32m<ipython-input-34-886078704d78>\u001b[0m in \u001b[0;36m<module>\u001b[0;34m\u001b[0m\n\u001b[0;32m----> 1\u001b[0;31m \u001b[0mlr\u001b[0m\u001b[0;34m.\u001b[0m\u001b[0mpredict\u001b[0m\u001b[0;34m(\u001b[0m\u001b[0mX_TEST\u001b[0m\u001b[0;34m)\u001b[0m\u001b[0;34m\u001b[0m\u001b[0;34m\u001b[0m\u001b[0m\n\u001b[0m",
      "\u001b[0;32m~/opt/anaconda3/lib/python3.8/site-packages/sklearn/linear_model/_base.py\u001b[0m in \u001b[0;36mpredict\u001b[0;34m(self, X)\u001b[0m\n\u001b[1;32m    234\u001b[0m             \u001b[0mReturns\u001b[0m \u001b[0mpredicted\u001b[0m \u001b[0mvalues\u001b[0m\u001b[0;34m.\u001b[0m\u001b[0;34m\u001b[0m\u001b[0;34m\u001b[0m\u001b[0m\n\u001b[1;32m    235\u001b[0m         \"\"\"\n\u001b[0;32m--> 236\u001b[0;31m         \u001b[0;32mreturn\u001b[0m \u001b[0mself\u001b[0m\u001b[0;34m.\u001b[0m\u001b[0m_decision_function\u001b[0m\u001b[0;34m(\u001b[0m\u001b[0mX\u001b[0m\u001b[0;34m)\u001b[0m\u001b[0;34m\u001b[0m\u001b[0;34m\u001b[0m\u001b[0m\n\u001b[0m\u001b[1;32m    237\u001b[0m \u001b[0;34m\u001b[0m\u001b[0m\n\u001b[1;32m    238\u001b[0m     \u001b[0m_preprocess_data\u001b[0m \u001b[0;34m=\u001b[0m \u001b[0mstaticmethod\u001b[0m\u001b[0;34m(\u001b[0m\u001b[0m_preprocess_data\u001b[0m\u001b[0;34m)\u001b[0m\u001b[0;34m\u001b[0m\u001b[0;34m\u001b[0m\u001b[0m\n",
      "\u001b[0;32m~/opt/anaconda3/lib/python3.8/site-packages/sklearn/linear_model/_base.py\u001b[0m in \u001b[0;36m_decision_function\u001b[0;34m(self, X)\u001b[0m\n\u001b[1;32m    217\u001b[0m \u001b[0;34m\u001b[0m\u001b[0m\n\u001b[1;32m    218\u001b[0m         \u001b[0mX\u001b[0m \u001b[0;34m=\u001b[0m \u001b[0mcheck_array\u001b[0m\u001b[0;34m(\u001b[0m\u001b[0mX\u001b[0m\u001b[0;34m,\u001b[0m \u001b[0maccept_sparse\u001b[0m\u001b[0;34m=\u001b[0m\u001b[0;34m[\u001b[0m\u001b[0;34m'csr'\u001b[0m\u001b[0;34m,\u001b[0m \u001b[0;34m'csc'\u001b[0m\u001b[0;34m,\u001b[0m \u001b[0;34m'coo'\u001b[0m\u001b[0;34m]\u001b[0m\u001b[0;34m)\u001b[0m\u001b[0;34m\u001b[0m\u001b[0;34m\u001b[0m\u001b[0m\n\u001b[0;32m--> 219\u001b[0;31m         return safe_sparse_dot(X, self.coef_.T,\n\u001b[0m\u001b[1;32m    220\u001b[0m                                dense_output=True) + self.intercept_\n\u001b[1;32m    221\u001b[0m \u001b[0;34m\u001b[0m\u001b[0m\n",
      "\u001b[0;32m~/opt/anaconda3/lib/python3.8/site-packages/sklearn/utils/validation.py\u001b[0m in \u001b[0;36minner_f\u001b[0;34m(*args, **kwargs)\u001b[0m\n\u001b[1;32m     71\u001b[0m                           FutureWarning)\n\u001b[1;32m     72\u001b[0m         \u001b[0mkwargs\u001b[0m\u001b[0;34m.\u001b[0m\u001b[0mupdate\u001b[0m\u001b[0;34m(\u001b[0m\u001b[0;34m{\u001b[0m\u001b[0mk\u001b[0m\u001b[0;34m:\u001b[0m \u001b[0marg\u001b[0m \u001b[0;32mfor\u001b[0m \u001b[0mk\u001b[0m\u001b[0;34m,\u001b[0m \u001b[0marg\u001b[0m \u001b[0;32min\u001b[0m \u001b[0mzip\u001b[0m\u001b[0;34m(\u001b[0m\u001b[0msig\u001b[0m\u001b[0;34m.\u001b[0m\u001b[0mparameters\u001b[0m\u001b[0;34m,\u001b[0m \u001b[0margs\u001b[0m\u001b[0;34m)\u001b[0m\u001b[0;34m}\u001b[0m\u001b[0;34m)\u001b[0m\u001b[0;34m\u001b[0m\u001b[0;34m\u001b[0m\u001b[0m\n\u001b[0;32m---> 73\u001b[0;31m         \u001b[0;32mreturn\u001b[0m \u001b[0mf\u001b[0m\u001b[0;34m(\u001b[0m\u001b[0;34m**\u001b[0m\u001b[0mkwargs\u001b[0m\u001b[0;34m)\u001b[0m\u001b[0;34m\u001b[0m\u001b[0;34m\u001b[0m\u001b[0m\n\u001b[0m\u001b[1;32m     74\u001b[0m     \u001b[0;32mreturn\u001b[0m \u001b[0minner_f\u001b[0m\u001b[0;34m\u001b[0m\u001b[0;34m\u001b[0m\u001b[0m\n\u001b[1;32m     75\u001b[0m \u001b[0;34m\u001b[0m\u001b[0m\n",
      "\u001b[0;32m~/opt/anaconda3/lib/python3.8/site-packages/sklearn/utils/extmath.py\u001b[0m in \u001b[0;36msafe_sparse_dot\u001b[0;34m(a, b, dense_output)\u001b[0m\n\u001b[1;32m    151\u001b[0m             \u001b[0mret\u001b[0m \u001b[0;34m=\u001b[0m \u001b[0mnp\u001b[0m\u001b[0;34m.\u001b[0m\u001b[0mdot\u001b[0m\u001b[0;34m(\u001b[0m\u001b[0ma\u001b[0m\u001b[0;34m,\u001b[0m \u001b[0mb\u001b[0m\u001b[0;34m)\u001b[0m\u001b[0;34m\u001b[0m\u001b[0;34m\u001b[0m\u001b[0m\n\u001b[1;32m    152\u001b[0m     \u001b[0;32melse\u001b[0m\u001b[0;34m:\u001b[0m\u001b[0;34m\u001b[0m\u001b[0;34m\u001b[0m\u001b[0m\n\u001b[0;32m--> 153\u001b[0;31m         \u001b[0mret\u001b[0m \u001b[0;34m=\u001b[0m \u001b[0ma\u001b[0m \u001b[0;34m@\u001b[0m \u001b[0mb\u001b[0m\u001b[0;34m\u001b[0m\u001b[0;34m\u001b[0m\u001b[0m\n\u001b[0m\u001b[1;32m    154\u001b[0m \u001b[0;34m\u001b[0m\u001b[0m\n\u001b[1;32m    155\u001b[0m     if (sparse.issparse(a) and sparse.issparse(b)\n",
      "\u001b[0;31mValueError\u001b[0m: matmul: Input operand 1 has a mismatch in its core dimension 0, with gufunc signature (n?,k),(k,m?)->(n?,m?) (size 9 is different from 3)"
     ]
    }
   ],
   "source": [
    "lr.predict(X_TEST)"
   ]
  },
  {
   "cell_type": "code",
   "execution_count": null,
   "metadata": {},
   "outputs": [],
   "source": []
  },
  {
   "cell_type": "code",
   "execution_count": null,
   "metadata": {},
   "outputs": [],
   "source": []
  },
  {
   "cell_type": "code",
   "execution_count": null,
   "metadata": {},
   "outputs": [],
   "source": []
  },
  {
   "cell_type": "code",
   "execution_count": null,
   "metadata": {},
   "outputs": [],
   "source": []
  },
  {
   "cell_type": "code",
   "execution_count": null,
   "metadata": {},
   "outputs": [],
   "source": []
  },
  {
   "cell_type": "code",
   "execution_count": null,
   "metadata": {},
   "outputs": [],
   "source": []
  }
 ],
 "metadata": {
  "kernelspec": {
   "display_name": "Python 3",
   "language": "python",
   "name": "python3"
  },
  "language_info": {
   "codemirror_mode": {
    "name": "ipython",
    "version": 3
   },
   "file_extension": ".py",
   "mimetype": "text/x-python",
   "name": "python",
   "nbconvert_exporter": "python",
   "pygments_lexer": "ipython3",
   "version": "3.8.3"
  }
 },
 "nbformat": 4,
 "nbformat_minor": 4
}
