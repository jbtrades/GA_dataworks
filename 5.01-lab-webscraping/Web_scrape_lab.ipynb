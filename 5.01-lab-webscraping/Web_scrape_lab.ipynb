{
 "cells": [
  {
   "cell_type": "code",
   "execution_count": 1,
   "metadata": {},
   "outputs": [],
   "source": [
    "# Import libaries\n",
    "import pandas as pd\n",
    "import requests\n",
    "import numpy as np\n",
    "from bs4 import BeautifulSoup\n",
    "import time\n"
   ]
  },
  {
   "cell_type": "markdown",
   "metadata": {},
   "source": [
    "### Step 1: Create a soup object from the home page"
   ]
  },
  {
   "cell_type": "code",
   "execution_count": 2,
   "metadata": {},
   "outputs": [],
   "source": [
    "url = 'https://pages.git.generalassemb.ly/rldaggie/for-scraping/'\n",
    "forscrapy = requests.get(url)\n",
    "soup = BeautifulSoup(forscrapy.content, 'lxml')"
   ]
  },
  {
   "cell_type": "code",
   "execution_count": 3,
   "metadata": {},
   "outputs": [
    {
     "data": {
      "text/plain": [
       "<!DOCTYPE html>\n",
       "<html lang=\"en\">\n",
       "<head>\n",
       "<meta charset=\"utf-8\"/>\n",
       "<meta content=\"IE=edge\" http-equiv=\"X-UA-Compatible\"/>\n",
       "<meta content=\"width=device-width, initial-scale=1.0\" name=\"viewport\"/>\n",
       "<title>Nutrition Information</title>\n",
       "<link crossorigin=\"anonymous\" href=\"https://stackpath.bootstrapcdn.com/bootstrap/4.4.1/css/bootstrap.min.css\" integrity=\"sha384-Vkoo8x4CGsO3+Hhxv8T/Q5PaXtkKtu6ug5TOeNV6gBiFeWPGFN9MuhOf23Q9Ifjh\" rel=\"stylesheet\"/>\n",
       "</head>\n",
       "<body>\n",
       "<header>\n",
       "<section class=\"container\">\n",
       "<nav class=\"navbar navbar-expand-lg navbar-light bg-light\" role=\"navigation\">\n",
       "<a class=\"navbar-brand\" href=\"/\">Nutrition Information</a> </nav>\n",
       "</section>\n",
       "</header>\n",
       "<main class=\"container\" role=\"main\">\n",
       "<br/>\n",
       "<div class=\"alert alert-danger\">\n",
       "        NOTE: This data is super old and rife with errors. It's meant for scraping practice only.\n",
       "      </div>\n",
       "<table class=\"table\" id=\"restaurants\">\n",
       "<thead>\n",
       "<tr>\n",
       "<th>Name</th>\n",
       "<th></th>\n",
       "</tr>\n",
       "</thead>\n",
       "<tbody>\n",
       "<tr>\n",
       "<td>\n",
       "<a href=\"restaurants/1.html\">A&amp;W Restaurants</a> </td>\n",
       "</tr>\n",
       "<tr>\n",
       "<td>\n",
       "<a href=\"restaurants/2.html\">Applebee's</a> </td>\n",
       "</tr>\n",
       "<tr>\n",
       "<td>\n",
       "<a href=\"restaurants/3.html\">Arby's</a> </td>\n",
       "</tr>\n",
       "<tr>\n",
       "<td>\n",
       "<a href=\"restaurants/4.html\">Atlanta Bread Company</a> </td>\n",
       "</tr>\n",
       "<tr>\n",
       "<td>\n",
       "<a href=\"restaurants/5.html\">Bojangle's Famous Chicken 'n Biscuits</a> </td>\n",
       "</tr>\n",
       "<tr>\n",
       "<td>\n",
       "<a href=\"restaurants/6.html\">Buffalo Wild Wings</a> </td>\n",
       "</tr>\n",
       "<tr>\n",
       "<td>\n",
       "<a href=\"restaurants/7.html\">Burger King</a> </td>\n",
       "</tr>\n",
       "<tr>\n",
       "<td>\n",
       "<a href=\"restaurants/8.html\">Captain D's</a> </td>\n",
       "</tr>\n",
       "<tr>\n",
       "<td>\n",
       "<a href=\"restaurants/9.html\">Carl's Jr.</a> </td>\n",
       "</tr>\n",
       "<tr>\n",
       "<td>\n",
       "<a href=\"restaurants/10.html\">Charley's Grilled Subs</a> </td>\n",
       "</tr>\n",
       "<tr>\n",
       "<td>\n",
       "<a href=\"restaurants/11.html\">Chick-fil-A</a> </td>\n",
       "</tr>\n",
       "<tr>\n",
       "<td>\n",
       "<a href=\"restaurants/12.html\">Chili's</a> </td>\n",
       "</tr>\n",
       "<tr>\n",
       "<td>\n",
       "<a href=\"restaurants/13.html\">Chipotle Mexican Grill</a> </td>\n",
       "</tr>\n",
       "<tr>\n",
       "<td>\n",
       "<a href=\"restaurants/14.html\">Church's</a> </td>\n",
       "</tr>\n",
       "<tr>\n",
       "<td>\n",
       "<a href=\"restaurants/15.html\">Corner Bakery Cafe</a> </td>\n",
       "</tr>\n",
       "<tr>\n",
       "<td>\n",
       "<a href=\"restaurants/16.html\">Dairy Queen</a> </td>\n",
       "</tr>\n",
       "<tr>\n",
       "<td>\n",
       "<a href=\"restaurants/17.html\">Denny's</a> </td>\n",
       "</tr>\n",
       "<tr>\n",
       "<td>\n",
       "<a href=\"restaurants/18.html\">El Pollo Loco</a> </td>\n",
       "</tr>\n",
       "<tr>\n",
       "<td>\n",
       "<a href=\"restaurants/19.html\">FATZ</a> </td>\n",
       "</tr>\n",
       "<tr>\n",
       "<td>\n",
       "<a href=\"restaurants/20.html\">Fazoli's</a> </td>\n",
       "</tr>\n",
       "<tr>\n",
       "<td>\n",
       "<a href=\"restaurants/21.html\">Five Guys Burgers and Fries</a> </td>\n",
       "</tr>\n",
       "<tr>\n",
       "<td>\n",
       "<a href=\"restaurants/22.html\">Golden Chick</a> </td>\n",
       "</tr>\n",
       "<tr>\n",
       "<td>\n",
       "<a href=\"restaurants/23.html\">Hardee's</a> </td>\n",
       "</tr>\n",
       "<tr>\n",
       "<td>\n",
       "<a href=\"restaurants/24.html\">IHOP</a> </td>\n",
       "</tr>\n",
       "<tr>\n",
       "<td>\n",
       "<a href=\"restaurants/25.html\">In-N-Out Burger</a> </td>\n",
       "</tr>\n",
       "<tr>\n",
       "<td>\n",
       "<a href=\"restaurants/26.html\">Jack in the Box</a> </td>\n",
       "</tr>\n",
       "<tr>\n",
       "<td>\n",
       "<a href=\"restaurants/27.html\">Jimmy Johns</a> </td>\n",
       "</tr>\n",
       "<tr>\n",
       "<td>\n",
       "<a href=\"restaurants/28.html\">Joe's Crab Shack</a> </td>\n",
       "</tr>\n",
       "<tr>\n",
       "<td>\n",
       "<a href=\"restaurants/29.html\">KFC</a> </td>\n",
       "</tr>\n",
       "<tr>\n",
       "<td>\n",
       "<a href=\"restaurants/30.html\">McDonald's</a> </td>\n",
       "</tr>\n",
       "<tr>\n",
       "<td>\n",
       "<a href=\"restaurants/31.html\">O'Charley's</a> </td>\n",
       "</tr>\n",
       "<tr>\n",
       "<td>\n",
       "<a href=\"restaurants/32.html\">Olive Garden</a> </td>\n",
       "</tr>\n",
       "<tr>\n",
       "<td>\n",
       "<a href=\"restaurants/33.html\">Outback Steakhouse</a> </td>\n",
       "</tr>\n",
       "<tr>\n",
       "<td>\n",
       "<a href=\"restaurants/34.html\">Panda Express</a> </td>\n",
       "</tr>\n",
       "<tr>\n",
       "<td>\n",
       "<a href=\"restaurants/35.html\">Panera Bread</a> </td>\n",
       "</tr>\n",
       "<tr>\n",
       "<td>\n",
       "<a href=\"restaurants/36.html\">Popeye's</a> </td>\n",
       "</tr>\n",
       "<tr>\n",
       "<td>\n",
       "<a href=\"restaurants/37.html\">Quiznos</a> </td>\n",
       "</tr>\n",
       "<tr>\n",
       "<td>\n",
       "<a href=\"restaurants/38.html\">Red Robin Gourmet Burgers</a> </td>\n",
       "</tr>\n",
       "<tr>\n",
       "<td>\n",
       "<a href=\"restaurants/39.html\">Romano's Macaroni Grill</a> </td>\n",
       "</tr>\n",
       "<tr>\n",
       "<td>\n",
       "<a href=\"restaurants/40.html\">Ruby Tuesday</a> </td>\n",
       "</tr>\n",
       "<tr>\n",
       "<td>\n",
       "<a href=\"restaurants/41.html\">Subway</a> </td>\n",
       "</tr>\n",
       "<tr>\n",
       "<td>\n",
       "<a href=\"restaurants/42.html\">Taco Bell</a> </td>\n",
       "</tr>\n",
       "<tr>\n",
       "<td>\n",
       "<a href=\"restaurants/43.html\">Taco Bueno</a> </td>\n",
       "</tr>\n",
       "<tr>\n",
       "<td>\n",
       "<a href=\"restaurants/44.html\">Wendy's</a> </td>\n",
       "</tr>\n",
       "</tbody>\n",
       "</table> </main>\n",
       "</body>\n",
       "</html>"
      ]
     },
     "execution_count": 3,
     "metadata": {},
     "output_type": "execute_result"
    }
   ],
   "source": [
    "soup.extract()"
   ]
  },
  {
   "cell_type": "code",
   "execution_count": 4,
   "metadata": {},
   "outputs": [
    {
     "name": "stdout",
     "output_type": "stream",
     "text": [
      "<td>\n",
      "<a href=\"restaurants/1.html\">A&amp;W Restaurants</a> </td>\n",
      "\n",
      "A&W Restaurants \n"
     ]
    }
   ],
   "source": [
    "print(soup.td)\n",
    "print(soup.td.text)\n",
    "#print(soup.td.href.text)\n",
    "name = soup.find('a')"
   ]
  },
  {
   "cell_type": "code",
   "execution_count": 5,
   "metadata": {},
   "outputs": [
    {
     "data": {
      "text/plain": [
       "{'class': ['navbar-brand'], 'href': '/'}"
      ]
     },
     "execution_count": 5,
     "metadata": {},
     "output_type": "execute_result"
    }
   ],
   "source": [
    "name.attrs"
   ]
  },
  {
   "cell_type": "code",
   "execution_count": null,
   "metadata": {},
   "outputs": [],
   "source": []
  },
  {
   "cell_type": "code",
   "execution_count": null,
   "metadata": {},
   "outputs": [],
   "source": []
  },
  {
   "cell_type": "code",
   "execution_count": null,
   "metadata": {},
   "outputs": [],
   "source": []
  },
  {
   "cell_type": "code",
   "execution_count": null,
   "metadata": {
    "scrolled": true
   },
   "outputs": [],
   "source": [
    "\n"
   ]
  },
  {
   "cell_type": "code",
   "execution_count": null,
   "metadata": {},
   "outputs": [],
   "source": []
  },
  {
   "cell_type": "code",
   "execution_count": null,
   "metadata": {},
   "outputs": [],
   "source": []
  },
  {
   "cell_type": "code",
   "execution_count": null,
   "metadata": {},
   "outputs": [],
   "source": []
  },
  {
   "cell_type": "markdown",
   "metadata": {},
   "source": [
    "### Step 2: Scrape the home page soup for every restaurant\n",
    "\n",
    "Note: Your best bet is to create a list of dictionaries, one for each restaurant. Each dictionary contains the restaurant's name and path from the `href`. The result of your scrape should look something like this:\n",
    "\n",
    "```python\n",
    "restaurants = [\n",
    "    {'name': 'A&W Restaurants', 'href': 'restaurants/1.html'}, \n",
    "    {'name': \"Applebee's\", 'href': 'restaurants/2.html'},\n",
    "    ...\n",
    "]\n",
    "```"
   ]
  },
  {
   "cell_type": "code",
   "execution_count": 6,
   "metadata": {},
   "outputs": [
    {
     "data": {
      "text/plain": [
       "bs4.element.Tag"
      ]
     },
     "execution_count": 6,
     "metadata": {},
     "output_type": "execute_result"
    }
   ],
   "source": [
    "table = soup.find('table', {'id': 'restaurants'})\n",
    "type(table) "
   ]
  },
  {
   "cell_type": "code",
   "execution_count": 7,
   "metadata": {
    "scrolled": true
   },
   "outputs": [
    {
     "data": {
      "text/html": [
       "<div>\n",
       "<style scoped>\n",
       "    .dataframe tbody tr th:only-of-type {\n",
       "        vertical-align: middle;\n",
       "    }\n",
       "\n",
       "    .dataframe tbody tr th {\n",
       "        vertical-align: top;\n",
       "    }\n",
       "\n",
       "    .dataframe thead th {\n",
       "        text-align: right;\n",
       "    }\n",
       "</style>\n",
       "<table border=\"1\" class=\"dataframe\">\n",
       "  <thead>\n",
       "    <tr style=\"text-align: right;\">\n",
       "      <th></th>\n",
       "      <th>name</th>\n",
       "      <th>href</th>\n",
       "    </tr>\n",
       "  </thead>\n",
       "  <tbody>\n",
       "    <tr>\n",
       "      <th>0</th>\n",
       "      <td>A&amp;W Restaurants</td>\n",
       "      <td>restaurants/1.html</td>\n",
       "    </tr>\n",
       "    <tr>\n",
       "      <th>1</th>\n",
       "      <td>Applebee's</td>\n",
       "      <td>restaurants/2.html</td>\n",
       "    </tr>\n",
       "    <tr>\n",
       "      <th>2</th>\n",
       "      <td>Arby's</td>\n",
       "      <td>restaurants/3.html</td>\n",
       "    </tr>\n",
       "    <tr>\n",
       "      <th>3</th>\n",
       "      <td>Atlanta Bread Company</td>\n",
       "      <td>restaurants/4.html</td>\n",
       "    </tr>\n",
       "    <tr>\n",
       "      <th>4</th>\n",
       "      <td>Bojangle's Famous Chicken 'n Biscuits</td>\n",
       "      <td>restaurants/5.html</td>\n",
       "    </tr>\n",
       "  </tbody>\n",
       "</table>\n",
       "</div>"
      ],
      "text/plain": [
       "                                    name                href\n",
       "0                        A&W Restaurants  restaurants/1.html\n",
       "1                             Applebee's  restaurants/2.html\n",
       "2                                 Arby's  restaurants/3.html\n",
       "3                  Atlanta Bread Company  restaurants/4.html\n",
       "4  Bojangle's Famous Chicken 'n Biscuits  restaurants/5.html"
      ]
     },
     "execution_count": 7,
     "metadata": {},
     "output_type": "execute_result"
    }
   ],
   "source": [
    "table = soup.find('table', {'id': 'restaurants'})\n",
    "\n",
    "restaurants = []\n",
    "\n",
    "for row in table.find_all('a'):\n",
    "    resnames = {}\n",
    "    resnames['name'] = row.text\n",
    "    resnames['href'] = row.attrs['href'] \n",
    "    restaurants.append(resnames)\n",
    "    \n",
    "pd.DataFrame(restaurants).head()"
   ]
  },
  {
   "cell_type": "code",
   "execution_count": 8,
   "metadata": {},
   "outputs": [
    {
     "data": {
      "text/plain": [
       "[{'name': 'A&W Restaurants', 'href': 'restaurants/1.html'},\n",
       " {'name': \"Applebee's\", 'href': 'restaurants/2.html'},\n",
       " {'name': \"Arby's\", 'href': 'restaurants/3.html'},\n",
       " {'name': 'Atlanta Bread Company', 'href': 'restaurants/4.html'},\n",
       " {'name': \"Bojangle's Famous Chicken 'n Biscuits\",\n",
       "  'href': 'restaurants/5.html'}]"
      ]
     },
     "execution_count": 8,
     "metadata": {},
     "output_type": "execute_result"
    }
   ],
   "source": [
    "restaurants[:5]"
   ]
  },
  {
   "cell_type": "code",
   "execution_count": null,
   "metadata": {},
   "outputs": [],
   "source": []
  },
  {
   "cell_type": "code",
   "execution_count": null,
   "metadata": {},
   "outputs": [],
   "source": []
  },
  {
   "cell_type": "code",
   "execution_count": null,
   "metadata": {},
   "outputs": [],
   "source": []
  },
  {
   "cell_type": "code",
   "execution_count": null,
   "metadata": {},
   "outputs": [],
   "source": []
  },
  {
   "cell_type": "code",
   "execution_count": null,
   "metadata": {},
   "outputs": [],
   "source": []
  },
  {
   "cell_type": "markdown",
   "metadata": {},
   "source": [
    "### Step 3: Using the `href`, scrape each restaurant's page and create a single list of food dictionaries.\n",
    "\n",
    "Your list of foods should look something like this:\n",
    "```python\n",
    "foods = [\n",
    "    {\n",
    "        'calories': '0',\n",
    "        'carbs': '0',\n",
    "        'category': 'Drinks',\n",
    "        'fat': '0',\n",
    "        'name': 'A&W® Diet Root Beer',\n",
    "        'restaurant': 'A&W Restaurants'\n",
    "    },\n",
    "    {\n",
    "        'calories': '0',\n",
    "        'carbs': '0',\n",
    "        'category': 'Drinks',\n",
    "        'fat': '0',\n",
    "        'name': 'A&W® Diet Root Beer',\n",
    "        'restaurant': 'A&W Restaurants'\n",
    "    },\n",
    "    ...\n",
    "]\n",
    "```\n",
    "\n",
    "**Note**: Remove extra white space from each category"
   ]
  },
  {
   "cell_type": "markdown",
   "metadata": {},
   "source": [
    "1. retrieve website address and place into soup object url\n",
    "2. create soup object for each restaruant\n",
    "\n",
    "3. soup .find table class = table\n",
    "\n",
    "4. t.body tr items name\n",
    "\n",
    "5. td for category,calories,fat,carbs"
   ]
  },
  {
   "cell_type": "code",
   "execution_count": null,
   "metadata": {
    "scrolled": true
   },
   "outputs": [],
   "source": [
    "\n"
   ]
  },
  {
   "cell_type": "code",
   "execution_count": 9,
   "metadata": {},
   "outputs": [],
   "source": [
    "#type(table)"
   ]
  },
  {
   "cell_type": "code",
   "execution_count": 10,
   "metadata": {},
   "outputs": [],
   "source": [
    "#soup.find('tr')"
   ]
  },
  {
   "cell_type": "code",
   "execution_count": 11,
   "metadata": {},
   "outputs": [],
   "source": [
    "#soup.find_all('tr')"
   ]
  },
  {
   "cell_type": "code",
   "execution_count": 12,
   "metadata": {},
   "outputs": [
    {
     "data": {
      "text/plain": [
       "[{'name': 'A&W Restaurants', 'href': 'restaurants/1.html'},\n",
       " {'name': \"Applebee's\", 'href': 'restaurants/2.html'},\n",
       " {'name': \"Arby's\", 'href': 'restaurants/3.html'},\n",
       " {'name': 'Atlanta Bread Company', 'href': 'restaurants/4.html'},\n",
       " {'name': \"Bojangle's Famous Chicken 'n Biscuits\",\n",
       "  'href': 'restaurants/5.html'}]"
      ]
     },
     "execution_count": 12,
     "metadata": {},
     "output_type": "execute_result"
    }
   ],
   "source": [
    "restaurants[:5]"
   ]
  },
  {
   "cell_type": "code",
   "execution_count": 13,
   "metadata": {},
   "outputs": [],
   "source": [
    "#for website in restaurants:\n",
    " #   print(website['href'])"
   ]
  },
  {
   "cell_type": "code",
   "execution_count": 14,
   "metadata": {},
   "outputs": [],
   "source": [
    "\n"
   ]
  },
  {
   "cell_type": "code",
   "execution_count": 23,
   "metadata": {},
   "outputs": [],
   "source": [
    "\n",
    "rants= []\n",
    "\n",
    "for website in restaurants:\n",
    "    webstr = website['href']    \n",
    "    pageurl = f'https://pages.git.generalassemb.ly/rldaggie/for-scraping/{webstr}'\n",
    "    src = requests.get(pageurl)\n",
    "    soup = BeautifulSoup(src.content, 'lxml')\n",
    "    table = soup.find('table', {'class': 'table'})\n",
    " \n",
    "    for row in table.find('tbody').find_all('tr'):\n",
    "            name = soup.find('h3',{'class':'display-3'})\n",
    "            resi = {} # dictionary container\n",
    "            resi['itemname'] = row.find('td').text\n",
    "            resi['Category'] = row.find_all('td')[1].text\n",
    "            resi['Calories'] = row.find_all('td')[2].text\n",
    "            resi['Fat'] = row.find_all('td')[3].text\n",
    "            resi['Carbs'] = row.find_all('td')[4].text\n",
    "            resi['res_name'] = name.text[1:]\n",
    "            rants.append(resi) # append my dictionary to global list\n"
   ]
  },
  {
   "cell_type": "markdown",
   "metadata": {},
   "source": [
    "retrieve website address and place into soup object url\n",
    "\n",
    "create soup object for each restaruant \n",
    "\n",
    "soup .find table class = table\n",
    "\n",
    "t.body tr items name\n",
    "\n",
    "td for category,calories,fat,carbs\n",
    "\n",
    "\n",
    "\n"
   ]
  },
  {
   "cell_type": "code",
   "execution_count": null,
   "metadata": {},
   "outputs": [],
   "source": []
  },
  {
   "cell_type": "code",
   "execution_count": null,
   "metadata": {},
   "outputs": [],
   "source": []
  },
  {
   "cell_type": "code",
   "execution_count": null,
   "metadata": {},
   "outputs": [],
   "source": []
  },
  {
   "cell_type": "code",
   "execution_count": null,
   "metadata": {},
   "outputs": [],
   "source": []
  },
  {
   "cell_type": "code",
   "execution_count": null,
   "metadata": {},
   "outputs": [],
   "source": []
  },
  {
   "cell_type": "code",
   "execution_count": null,
   "metadata": {},
   "outputs": [],
   "source": []
  },
  {
   "cell_type": "code",
   "execution_count": null,
   "metadata": {},
   "outputs": [],
   "source": []
  },
  {
   "cell_type": "code",
   "execution_count": null,
   "metadata": {},
   "outputs": [],
   "source": []
  },
  {
   "cell_type": "code",
   "execution_count": null,
   "metadata": {},
   "outputs": [],
   "source": []
  },
  {
   "cell_type": "code",
   "execution_count": null,
   "metadata": {},
   "outputs": [],
   "source": []
  },
  {
   "cell_type": "markdown",
   "metadata": {},
   "source": [
    "### Step 4: Create a pandas DataFrame from your list of foods\n",
    "\n",
    "**Note**: Your DataFrame should have 5,131 rows"
   ]
  },
  {
   "cell_type": "code",
   "execution_count": 24,
   "metadata": {},
   "outputs": [
    {
     "data": {
      "text/plain": [
       "(5131, 6)"
      ]
     },
     "execution_count": 24,
     "metadata": {},
     "output_type": "execute_result"
    }
   ],
   "source": [
    "df = pd.DataFrame(rants)\n",
    "\n",
    "df.shape"
   ]
  },
  {
   "cell_type": "code",
   "execution_count": null,
   "metadata": {},
   "outputs": [],
   "source": []
  },
  {
   "cell_type": "markdown",
   "metadata": {},
   "source": [
    "### Step 5: Export to csv\n",
    "\n",
    "**Note:** Don't export the index column from your DataFrame"
   ]
  },
  {
   "cell_type": "code",
   "execution_count": 27,
   "metadata": {},
   "outputs": [],
   "source": [
    "df.to_csv('/Users/j_b/ga_DSI_works/5.01-lab-webscraping/foodmenu.csv',index=False)"
   ]
  },
  {
   "cell_type": "code",
   "execution_count": null,
   "metadata": {},
   "outputs": [],
   "source": []
  }
 ],
 "metadata": {
  "kernelspec": {
   "display_name": "Python 3",
   "language": "python",
   "name": "python3"
  },
  "language_info": {
   "codemirror_mode": {
    "name": "ipython",
    "version": 3
   },
   "file_extension": ".py",
   "mimetype": "text/x-python",
   "name": "python",
   "nbconvert_exporter": "python",
   "pygments_lexer": "ipython3",
   "version": "3.6.12"
  }
 },
 "nbformat": 4,
 "nbformat_minor": 2
}
